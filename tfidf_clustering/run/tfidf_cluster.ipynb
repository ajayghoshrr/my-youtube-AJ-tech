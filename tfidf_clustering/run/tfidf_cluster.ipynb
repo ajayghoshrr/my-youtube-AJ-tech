{
 "cells": [
  {
   "cell_type": "markdown",
   "metadata": {},
   "source": [
    "# Problem statement\n",
    "\n",
    "    Collection of documents given in an folder\n",
    "    Basic preprocessing of the data(Stemming, N-Grams, Stopwords etc)\n",
    "    Convert into the TF-IDF Matrix (Create a TF-IDF Program from scratch)\n",
    "    Cluster the Matrix of data (Create KMeans clustering from scratch)\n",
    "    Create a confusion matrix and Map the cluster\n",
    "    "
   ]
  },
  {
   "cell_type": "markdown",
   "metadata": {},
   "source": [
    "# Introduction\n",
    "\n",
    "### Explanation of this notebook - https://youtu.be/6L6yZLZ3Jhg"
   ]
  },
  {
   "cell_type": "code",
   "execution_count": 139,
   "metadata": {},
   "outputs": [
    {
     "data": {
      "image/jpeg": "[encoded data removed]",
      "text/html": [
       "\n",
       "        <iframe\n",
       "            width=\"800\"\n",
       "            height=\"450\"\n",
       "            src=\"https://www.youtube.com/embed/6L6yZLZ3Jhg\"\n",
       "            frameborder=\"0\"\n",
       "            allowfullscreen\n",
       "        ></iframe>\n",
       "        "
      ],
      "text/plain": [
       "<IPython.lib.display.YouTubeVideo at 0x1cf2ac6d940>"
      ]
     },
     "execution_count": 139,
     "metadata": {},
     "output_type": "execute_result"
    }
   ],
   "source": [
    "from IPython.display import YouTubeVideo\n",
    "YouTubeVideo('6L6yZLZ3Jhg', width=800, height=450)\n",
    "\n"
   ]
  },
  {
   "cell_type": "code",
   "execution_count": 140,
   "metadata": {
    "collapsed": true
   },
   "outputs": [],
   "source": [
    "from IPython.core.interactiveshell import InteractiveShell\n",
    "InteractiveShell.ast_node_interactivity = \"all\"\n",
    "import logging\n",
    "logger = logging.getLogger(__name__)"
   ]
  },
  {
   "cell_type": "code",
   "execution_count": 141,
   "metadata": {
    "collapsed": true
   },
   "outputs": [],
   "source": [
    "import pandas as pd\n",
    "import numpy as np"
   ]
  },
  {
   "cell_type": "markdown",
   "metadata": {},
   "source": [
    "### Adding lib  path to the sys path.\n",
    "\n",
    "For normal distribution it's not required. __init__ file will take care of this"
   ]
  },
  {
   "cell_type": "code",
   "execution_count": 142,
   "metadata": {},
   "outputs": [
    {
     "data": {
      "text/plain": [
       "'C:\\\\Users\\\\ajaighosh.ramachandr\\\\Desktop\\\\AJ\\\\studies_ml\\\\kaggle\\\\nineleaps\\\\tfidf_clustering\\\\run'"
      ]
     },
     "execution_count": 142,
     "metadata": {},
     "output_type": "execute_result"
    }
   ],
   "source": [
    "import os\n",
    "os.getcwd()\n",
    "import sys\n",
    "sys.path.append(os.getcwd())\n",
    "sys.path.append(os.path.join(os.pardir, 'lib'))"
   ]
  },
  {
   "cell_type": "markdown",
   "metadata": {},
   "source": [
    "## KMeans clustering\n",
    "\n",
    "https://brilliant.org/wiki/k-means-clustering/\n",
    "\n",
    "## TF-IDF \n",
    "\n",
    "\n",
    "So, if we construct our document matrix out of counts, then we end up with numbers that don't contain much information, unless our goal was to see who uses 'the' most often.  \n",
    "\n",
    "### TF-IDF - A better Strategy\n",
    "\n",
    "Rather than just counting, we can use the [TF-IDF](http://en.wikipedia.org/wiki/Tf%E2%80%93idf) score of a word to rank it's importance.   \n",
    "\n",
    "The tfidf score of a word, w, is:\n",
    "$$tf(w) * idf(w)$$\n",
    "\n",
    "Where tf(w) = (Number of times the word appears in a document) / (Total number of words in the document)\n",
    "\n",
    "And where idf(w) = log(Number of documents / Number of documents that contain word w )."
   ]
  },
  {
   "cell_type": "code",
   "execution_count": 143,
   "metadata": {
    "collapsed": true
   },
   "outputs": [],
   "source": [
    "# Package imported\n",
    "from cluster.kmeans import KMeans\n",
    "from feature_extraction.tfidf import TfIdf"
   ]
  },
  {
   "cell_type": "code",
   "execution_count": 144,
   "metadata": {},
   "outputs": [
    {
     "data": {
      "text/plain": [
       "'C:\\\\Users\\\\ajaighosh.ramachandr\\\\Desktop\\\\AJ\\\\studies_ml\\\\kaggle\\\\nineleaps\\\\tfidf_clustering\\\\run\\\\..\\\\datasets\\\\corpus'"
      ]
     },
     "execution_count": 144,
     "metadata": {},
     "output_type": "execute_result"
    }
   ],
   "source": [
    "# Stored the path of corpus into a variable\n",
    "path_to_corpus = os.path.join(os.getcwd(),os.pardir,'datasets', 'corpus')\n",
    "path_to_corpus"
   ]
  },
  {
   "cell_type": "code",
   "execution_count": 145,
   "metadata": {
    "collapsed": true
   },
   "outputs": [],
   "source": [
    "# tfidf values\n",
    "tfidf = TfIdf()\n",
    "values = tfidf.tfidf_matrix(path_to_corpus=path_to_corpus, join_corpus = True)"
   ]
  },
  {
   "cell_type": "code",
   "execution_count": 146,
   "metadata": {},
   "outputs": [
    {
     "data": {
      "text/plain": [
       "{'buy': 0.4306177413281265,\n",
       " 'complaints': 0.7215274545261787,\n",
       " 'happy': 0.5649320834642577,\n",
       " 'odors': 0.6348840569561855,\n",
       " 'refills': 0.5267593772703599,\n",
       " 'road': 0.8081708520961719,\n",
       " 'run': 0.6515754810342509,\n",
       " 'trouble': 0.6708443160126581}"
      ]
     },
     "execution_count": 146,
     "metadata": {},
     "output_type": "execute_result"
    },
    {
     "data": {
      "text/html": [
       "<div>\n",
       "<style>\n",
       "    .dataframe thead tr:only-child th {\n",
       "        text-align: right;\n",
       "    }\n",
       "\n",
       "    .dataframe thead th {\n",
       "        text-align: left;\n",
       "    }\n",
       "\n",
       "    .dataframe tbody tr th {\n",
       "        vertical-align: top;\n",
       "    }\n",
       "</style>\n",
       "<table border=\"1\" class=\"dataframe\">\n",
       "  <thead>\n",
       "    <tr style=\"text-align: right;\">\n",
       "      <th></th>\n",
       "      <th>bags</th>\n",
       "      <th>great</th>\n",
       "      <th>odor</th>\n",
       "      <th>regular</th>\n",
       "      <th>works</th>\n",
       "    </tr>\n",
       "  </thead>\n",
       "  <tbody>\n",
       "    <tr>\n",
       "      <th>0</th>\n",
       "      <td>0.649298</td>\n",
       "      <td>0.637644</td>\n",
       "      <td>0.744905</td>\n",
       "      <td>0.822798</td>\n",
       "      <td>0.813494</td>\n",
       "    </tr>\n",
       "  </tbody>\n",
       "</table>\n",
       "</div>"
      ],
      "text/plain": [
       "       bags     great      odor   regular     works\n",
       "0  0.649298  0.637644  0.744905  0.822798  0.813494"
      ]
     },
     "execution_count": 146,
     "metadata": {},
     "output_type": "execute_result"
    },
    {
     "data": {
      "text/html": [
       "<div>\n",
       "<style>\n",
       "    .dataframe thead tr:only-child th {\n",
       "        text-align: right;\n",
       "    }\n",
       "\n",
       "    .dataframe thead th {\n",
       "        text-align: left;\n",
       "    }\n",
       "\n",
       "    .dataframe tbody tr th {\n",
       "        vertical-align: top;\n",
       "    }\n",
       "</style>\n",
       "<table border=\"1\" class=\"dataframe\">\n",
       "  <thead>\n",
       "    <tr style=\"text-align: right;\">\n",
       "      <th></th>\n",
       "      <th>complain</th>\n",
       "    </tr>\n",
       "  </thead>\n",
       "  <tbody>\n",
       "    <tr>\n",
       "      <th>0</th>\n",
       "      <td>5.366755</td>\n",
       "    </tr>\n",
       "  </tbody>\n",
       "</table>\n",
       "</div>"
      ],
      "text/plain": [
       "   complain\n",
       "0  5.366755"
      ]
     },
     "execution_count": 146,
     "metadata": {},
     "output_type": "execute_result"
    },
    {
     "data": {
      "text/html": [
       "<div>\n",
       "<style>\n",
       "    .dataframe thead tr:only-child th {\n",
       "        text-align: right;\n",
       "    }\n",
       "\n",
       "    .dataframe thead th {\n",
       "        text-align: left;\n",
       "    }\n",
       "\n",
       "    .dataframe tbody tr th {\n",
       "        vertical-align: top;\n",
       "    }\n",
       "</style>\n",
       "<table border=\"1\" class=\"dataframe\">\n",
       "  <thead>\n",
       "    <tr style=\"text-align: right;\">\n",
       "      <th></th>\n",
       "      <th>bags</th>\n",
       "      <th>great</th>\n",
       "      <th>odor</th>\n",
       "      <th>regular</th>\n",
       "      <th>works</th>\n",
       "      <th>complain</th>\n",
       "    </tr>\n",
       "  </thead>\n",
       "  <tbody>\n",
       "    <tr>\n",
       "      <th>0</th>\n",
       "      <td>0.649298</td>\n",
       "      <td>0.637644</td>\n",
       "      <td>0.744905</td>\n",
       "      <td>0.822798</td>\n",
       "      <td>0.813494</td>\n",
       "      <td>5.366755</td>\n",
       "    </tr>\n",
       "  </tbody>\n",
       "</table>\n",
       "</div>"
      ],
      "text/plain": [
       "       bags     great      odor   regular     works  complain\n",
       "0  0.649298  0.637644  0.744905  0.822798  0.813494  5.366755"
      ]
     },
     "execution_count": 146,
     "metadata": {},
     "output_type": "execute_result"
    },
    {
     "data": {
      "text/html": [
       "<div>\n",
       "<style>\n",
       "    .dataframe thead tr:only-child th {\n",
       "        text-align: right;\n",
       "    }\n",
       "\n",
       "    .dataframe thead th {\n",
       "        text-align: left;\n",
       "    }\n",
       "\n",
       "    .dataframe tbody tr th {\n",
       "        vertical-align: top;\n",
       "    }\n",
       "</style>\n",
       "<table border=\"1\" class=\"dataframe\">\n",
       "  <thead>\n",
       "    <tr style=\"text-align: right;\">\n",
       "      <th></th>\n",
       "      <th>bags</th>\n",
       "      <th>buy</th>\n",
       "      <th>complain</th>\n",
       "      <th>complaints</th>\n",
       "      <th>great</th>\n",
       "      <th>happy</th>\n",
       "      <th>odor</th>\n",
       "      <th>odors</th>\n",
       "      <th>refills</th>\n",
       "      <th>regular</th>\n",
       "      <th>road</th>\n",
       "      <th>run</th>\n",
       "      <th>trouble</th>\n",
       "      <th>works</th>\n",
       "    </tr>\n",
       "  </thead>\n",
       "  <tbody>\n",
       "    <tr>\n",
       "      <th>0</th>\n",
       "      <td>0.649298</td>\n",
       "      <td>NaN</td>\n",
       "      <td>5.366755</td>\n",
       "      <td>NaN</td>\n",
       "      <td>0.637644</td>\n",
       "      <td>NaN</td>\n",
       "      <td>0.744905</td>\n",
       "      <td>NaN</td>\n",
       "      <td>NaN</td>\n",
       "      <td>0.822798</td>\n",
       "      <td>NaN</td>\n",
       "      <td>NaN</td>\n",
       "      <td>NaN</td>\n",
       "      <td>0.813494</td>\n",
       "    </tr>\n",
       "    <tr>\n",
       "      <th>0</th>\n",
       "      <td>NaN</td>\n",
       "      <td>0.430618</td>\n",
       "      <td>NaN</td>\n",
       "      <td>0.721527</td>\n",
       "      <td>NaN</td>\n",
       "      <td>0.564932</td>\n",
       "      <td>NaN</td>\n",
       "      <td>0.634884</td>\n",
       "      <td>0.526759</td>\n",
       "      <td>NaN</td>\n",
       "      <td>0.808171</td>\n",
       "      <td>0.651575</td>\n",
       "      <td>0.670844</td>\n",
       "      <td>NaN</td>\n",
       "    </tr>\n",
       "  </tbody>\n",
       "</table>\n",
       "</div>"
      ],
      "text/plain": [
       "       bags       buy  complain  complaints     great     happy      odor  \\\n",
       "0  0.649298       NaN  5.366755         NaN  0.637644       NaN  0.744905   \n",
       "0       NaN  0.430618       NaN    0.721527       NaN  0.564932       NaN   \n",
       "\n",
       "      odors   refills   regular      road       run   trouble     works  \n",
       "0       NaN       NaN  0.822798       NaN       NaN       NaN  0.813494  \n",
       "0  0.634884  0.526759       NaN  0.808171  0.651575  0.670844       NaN  "
      ]
     },
     "execution_count": 146,
     "metadata": {},
     "output_type": "execute_result"
    }
   ],
   "source": [
    "values[0][5]\n",
    "x = pd.DataFrame([values[0][0]])\n",
    "y = pd.DataFrame([values[0][1]])\n",
    "x\n",
    "y\n",
    "z = pd.DataFrame([values[0][5]])\n",
    "result = pd.concat([x, y], axis=1)\n",
    "result\n",
    "final = pd.concat([result, z])\n",
    "final"
   ]
  },
  {
   "cell_type": "code",
   "execution_count": 147,
   "metadata": {},
   "outputs": [
    {
     "data": {
      "text/plain": [
       "{'bags': 0.6492981983802348,\n",
       " 'great': 0.6376444167554397,\n",
       " 'odor': 0.7449053585688348,\n",
       " 'regular': 0.8227983119211795,\n",
       " 'works': 0.8134943087942009}"
      ]
     },
     "execution_count": 147,
     "metadata": {},
     "output_type": "execute_result"
    },
    {
     "data": {
      "text/plain": [
       "{'bulky': 1.0226448567613315,\n",
       " 'cameras': 0.5466156410220165,\n",
       " 'capture': 0.7927251549850314,\n",
       " 'moment': 0.9236238309670536,\n",
       " 'unlike': 0.8657002440944586,\n",
       " 'withyou': 1.0226448567613315,\n",
       " 'yourlife': 1.0226448567613315}"
      ]
     },
     "execution_count": 147,
     "metadata": {},
     "output_type": "execute_result"
    }
   ],
   "source": [
    "values[0][0]\n",
    "values[0][-1]"
   ]
  },
  {
   "cell_type": "code",
   "execution_count": 148,
   "metadata": {},
   "outputs": [
    {
     "data": {
      "text/plain": [
       "2510"
      ]
     },
     "execution_count": 148,
     "metadata": {},
     "output_type": "execute_result"
    }
   ],
   "source": [
    "# collecting all words\n",
    "word_list = []\n",
    "for doc in values:\n",
    "    for sent in doc:\n",
    "        word_list.extend(sent.keys())\n",
    "len(set(word_list))"
   ]
  },
  {
   "cell_type": "code",
   "execution_count": 149,
   "metadata": {},
   "outputs": [
    {
     "data": {
      "text/html": [
       "<div>\n",
       "<style>\n",
       "    .dataframe thead tr:only-child th {\n",
       "        text-align: right;\n",
       "    }\n",
       "\n",
       "    .dataframe thead th {\n",
       "        text-align: left;\n",
       "    }\n",
       "\n",
       "    .dataframe tbody tr th {\n",
       "        vertical-align: top;\n",
       "    }\n",
       "</style>\n",
       "<table border=\"1\" class=\"dataframe\">\n",
       "  <thead>\n",
       "    <tr style=\"text-align: right;\">\n",
       "      <th></th>\n",
       "      <th>abandoned</th>\n",
       "      <th>abhor</th>\n",
       "      <th>ability</th>\n",
       "      <th>abode</th>\n",
       "      <th>absolute</th>\n",
       "      <th>absolutely</th>\n",
       "      <th>absolutly</th>\n",
       "      <th>absorb</th>\n",
       "      <th>abused</th>\n",
       "      <th>accept</th>\n",
       "      <th>...</th>\n",
       "      <th>yield</th>\n",
       "      <th>yourlife</th>\n",
       "      <th>youve</th>\n",
       "      <th>yrs</th>\n",
       "      <th>zarent</th>\n",
       "      <th>zipper</th>\n",
       "      <th>zone</th>\n",
       "      <th>zoom</th>\n",
       "      <th>zoombrowser</th>\n",
       "      <th>zooms</th>\n",
       "    </tr>\n",
       "  </thead>\n",
       "  <tbody>\n",
       "    <tr>\n",
       "      <th>0</th>\n",
       "      <td>NaN</td>\n",
       "      <td>NaN</td>\n",
       "      <td>NaN</td>\n",
       "      <td>NaN</td>\n",
       "      <td>NaN</td>\n",
       "      <td>NaN</td>\n",
       "      <td>NaN</td>\n",
       "      <td>NaN</td>\n",
       "      <td>NaN</td>\n",
       "      <td>NaN</td>\n",
       "      <td>...</td>\n",
       "      <td>NaN</td>\n",
       "      <td>NaN</td>\n",
       "      <td>0.0</td>\n",
       "      <td>NaN</td>\n",
       "      <td>NaN</td>\n",
       "      <td>NaN</td>\n",
       "      <td>NaN</td>\n",
       "      <td>NaN</td>\n",
       "      <td>NaN</td>\n",
       "      <td>NaN</td>\n",
       "    </tr>\n",
       "    <tr>\n",
       "      <th>0</th>\n",
       "      <td>NaN</td>\n",
       "      <td>NaN</td>\n",
       "      <td>NaN</td>\n",
       "      <td>NaN</td>\n",
       "      <td>NaN</td>\n",
       "      <td>NaN</td>\n",
       "      <td>NaN</td>\n",
       "      <td>NaN</td>\n",
       "      <td>NaN</td>\n",
       "      <td>NaN</td>\n",
       "      <td>...</td>\n",
       "      <td>NaN</td>\n",
       "      <td>NaN</td>\n",
       "      <td>NaN</td>\n",
       "      <td>NaN</td>\n",
       "      <td>NaN</td>\n",
       "      <td>NaN</td>\n",
       "      <td>NaN</td>\n",
       "      <td>NaN</td>\n",
       "      <td>NaN</td>\n",
       "      <td>NaN</td>\n",
       "    </tr>\n",
       "    <tr>\n",
       "      <th>0</th>\n",
       "      <td>NaN</td>\n",
       "      <td>NaN</td>\n",
       "      <td>NaN</td>\n",
       "      <td>NaN</td>\n",
       "      <td>NaN</td>\n",
       "      <td>NaN</td>\n",
       "      <td>NaN</td>\n",
       "      <td>NaN</td>\n",
       "      <td>NaN</td>\n",
       "      <td>NaN</td>\n",
       "      <td>...</td>\n",
       "      <td>NaN</td>\n",
       "      <td>NaN</td>\n",
       "      <td>NaN</td>\n",
       "      <td>NaN</td>\n",
       "      <td>NaN</td>\n",
       "      <td>NaN</td>\n",
       "      <td>NaN</td>\n",
       "      <td>NaN</td>\n",
       "      <td>NaN</td>\n",
       "      <td>NaN</td>\n",
       "    </tr>\n",
       "  </tbody>\n",
       "</table>\n",
       "<p>3 rows × 2511 columns</p>\n",
       "</div>"
      ],
      "text/plain": [
       "   abandoned  abhor  ability  abode  absolute  absolutely  absolutly  absorb  \\\n",
       "0        NaN    NaN      NaN    NaN       NaN         NaN        NaN     NaN   \n",
       "0        NaN    NaN      NaN    NaN       NaN         NaN        NaN     NaN   \n",
       "0        NaN    NaN      NaN    NaN       NaN         NaN        NaN     NaN   \n",
       "\n",
       "   abused  accept  ...    yield  yourlife  youve  yrs  zarent  zipper  zone  \\\n",
       "0     NaN     NaN  ...      NaN       NaN    0.0  NaN     NaN     NaN   NaN   \n",
       "0     NaN     NaN  ...      NaN       NaN    NaN  NaN     NaN     NaN   NaN   \n",
       "0     NaN     NaN  ...      NaN       NaN    NaN  NaN     NaN     NaN   NaN   \n",
       "\n",
       "   zoom  zoombrowser  zooms  \n",
       "0   NaN          NaN    NaN  \n",
       "0   NaN          NaN    NaN  \n",
       "0   NaN          NaN    NaN  \n",
       "\n",
       "[3 rows x 2511 columns]"
      ]
     },
     "execution_count": 149,
     "metadata": {},
     "output_type": "execute_result"
    }
   ],
   "source": [
    "# Converting Dictionay to DataFrame\n",
    "def convert_list_to_df(values):\n",
    "    main_df = pd.DataFrame([{\"youve\":0}])\n",
    "    #for doc in range(len(values)):\n",
    "    for sent in range(len(values)):\n",
    "        temp = pd.DataFrame([values[sent]])\n",
    "        main_df = pd.concat([main_df,temp])\n",
    "    return main_df\n",
    "main_df = convert_list_to_df(values[0])\n",
    "main_df.head(3)"
   ]
  },
  {
   "cell_type": "code",
   "execution_count": 150,
   "metadata": {},
   "outputs": [
    {
     "data": {
      "text/plain": [
       "Index(['abandoned', 'abhor', 'ability', 'abode', 'absolute'], dtype='object')"
      ]
     },
     "execution_count": 150,
     "metadata": {},
     "output_type": "execute_result"
    }
   ],
   "source": [
    "main_df.columns[:5]\n",
    "from sklearn import preprocessing"
   ]
  },
  {
   "cell_type": "code",
   "execution_count": 151,
   "metadata": {
    "collapsed": true
   },
   "outputs": [],
   "source": [
    "# Adding index to DF\n",
    "main_df.index = range(len(main_df.index))"
   ]
  },
  {
   "cell_type": "code",
   "execution_count": 152,
   "metadata": {},
   "outputs": [
    {
     "data": {
      "text/html": [
       "<div>\n",
       "<style>\n",
       "    .dataframe thead tr:only-child th {\n",
       "        text-align: right;\n",
       "    }\n",
       "\n",
       "    .dataframe thead th {\n",
       "        text-align: left;\n",
       "    }\n",
       "\n",
       "    .dataframe tbody tr th {\n",
       "        vertical-align: top;\n",
       "    }\n",
       "</style>\n",
       "<table border=\"1\" class=\"dataframe\">\n",
       "  <thead>\n",
       "    <tr style=\"text-align: right;\">\n",
       "      <th></th>\n",
       "      <th>abandoned</th>\n",
       "      <th>abhor</th>\n",
       "      <th>ability</th>\n",
       "      <th>abode</th>\n",
       "      <th>absolute</th>\n",
       "      <th>absolutely</th>\n",
       "      <th>absolutly</th>\n",
       "      <th>absorb</th>\n",
       "      <th>abused</th>\n",
       "      <th>accept</th>\n",
       "      <th>...</th>\n",
       "      <th>yield</th>\n",
       "      <th>yourlife</th>\n",
       "      <th>youve</th>\n",
       "      <th>yrs</th>\n",
       "      <th>zarent</th>\n",
       "      <th>zipper</th>\n",
       "      <th>zone</th>\n",
       "      <th>zoom</th>\n",
       "      <th>zoombrowser</th>\n",
       "      <th>zooms</th>\n",
       "    </tr>\n",
       "  </thead>\n",
       "  <tbody>\n",
       "    <tr>\n",
       "      <th>597</th>\n",
       "      <td>0.0</td>\n",
       "      <td>0.0</td>\n",
       "      <td>0.0</td>\n",
       "      <td>0.0</td>\n",
       "      <td>0.0</td>\n",
       "      <td>0.0</td>\n",
       "      <td>0.0</td>\n",
       "      <td>0.0</td>\n",
       "      <td>0.0</td>\n",
       "      <td>0.0</td>\n",
       "      <td>...</td>\n",
       "      <td>0.0</td>\n",
       "      <td>0.0</td>\n",
       "      <td>0.0</td>\n",
       "      <td>0.0</td>\n",
       "      <td>0.0</td>\n",
       "      <td>0.0</td>\n",
       "      <td>0.0</td>\n",
       "      <td>0.0</td>\n",
       "      <td>0.0</td>\n",
       "      <td>0.0</td>\n",
       "    </tr>\n",
       "    <tr>\n",
       "      <th>506</th>\n",
       "      <td>0.0</td>\n",
       "      <td>0.0</td>\n",
       "      <td>0.0</td>\n",
       "      <td>0.0</td>\n",
       "      <td>0.0</td>\n",
       "      <td>0.0</td>\n",
       "      <td>0.0</td>\n",
       "      <td>0.0</td>\n",
       "      <td>0.0</td>\n",
       "      <td>0.0</td>\n",
       "      <td>...</td>\n",
       "      <td>0.0</td>\n",
       "      <td>0.0</td>\n",
       "      <td>0.0</td>\n",
       "      <td>0.0</td>\n",
       "      <td>0.0</td>\n",
       "      <td>0.0</td>\n",
       "      <td>0.0</td>\n",
       "      <td>0.0</td>\n",
       "      <td>0.0</td>\n",
       "      <td>0.0</td>\n",
       "    </tr>\n",
       "  </tbody>\n",
       "</table>\n",
       "<p>2 rows × 2511 columns</p>\n",
       "</div>"
      ],
      "text/plain": [
       "     abandoned  abhor  ability  abode  absolute  absolutely  absolutly  \\\n",
       "597        0.0    0.0      0.0    0.0       0.0         0.0        0.0   \n",
       "506        0.0    0.0      0.0    0.0       0.0         0.0        0.0   \n",
       "\n",
       "     absorb  abused  accept  ...    yield  yourlife  youve  yrs  zarent  \\\n",
       "597     0.0     0.0     0.0  ...      0.0       0.0    0.0  0.0     0.0   \n",
       "506     0.0     0.0     0.0  ...      0.0       0.0    0.0  0.0     0.0   \n",
       "\n",
       "     zipper  zone  zoom  zoombrowser  zooms  \n",
       "597     0.0   0.0   0.0          0.0    0.0  \n",
       "506     0.0   0.0   0.0          0.0    0.0  \n",
       "\n",
       "[2 rows x 2511 columns]"
      ]
     },
     "execution_count": 152,
     "metadata": {},
     "output_type": "execute_result"
    }
   ],
   "source": [
    "main_df = main_df.fillna(0)\n",
    "#main_df.replace('Unknown', 0)\n",
    "main_df.sample(2)"
   ]
  },
  {
   "cell_type": "code",
   "execution_count": 153,
   "metadata": {},
   "outputs": [
    {
     "data": {
      "text/plain": [
       "1"
      ]
     },
     "execution_count": 153,
     "metadata": {},
     "output_type": "execute_result"
    }
   ],
   "source": [
    "len(main_df.abandoned[main_df.abandoned > 0])"
   ]
  },
  {
   "cell_type": "code",
   "execution_count": 154,
   "metadata": {
    "collapsed": true
   },
   "outputs": [],
   "source": [
    "train_X = np.array(main_df)\n",
    "train_X = preprocessing.scale(train_X)"
   ]
  },
  {
   "cell_type": "code",
   "execution_count": 155,
   "metadata": {},
   "outputs": [
    {
     "data": {
      "text/plain": [
       "array([[-0.02803861, -0.02803861, -0.0467637 , ..., -0.0962468 ,\n",
       "        -0.02803861, -0.03966818]])"
      ]
     },
     "execution_count": 155,
     "metadata": {},
     "output_type": "execute_result"
    }
   ],
   "source": [
    "train_X[:1]"
   ]
  },
  {
   "cell_type": "markdown",
   "metadata": {},
   "source": [
    "## Applying KMeans clustering\n"
   ]
  },
  {
   "cell_type": "code",
   "execution_count": 156,
   "metadata": {
    "collapsed": true
   },
   "outputs": [],
   "source": [
    "clus = KMeans(tolerance=0.001, epochs=300)"
   ]
  },
  {
   "cell_type": "code",
   "execution_count": 157,
   "metadata": {},
   "outputs": [
    {
     "data": {
      "text/plain": [
       "(1273, 2511)"
      ]
     },
     "execution_count": 157,
     "metadata": {},
     "output_type": "execute_result"
    }
   ],
   "source": [
    "train_X.shape"
   ]
  },
  {
   "cell_type": "code",
   "execution_count": 158,
   "metadata": {},
   "outputs": [
    {
     "name": "stdout",
     "output_type": "stream",
     "text": [
      "\n",
      "    KMeans class will initiate the number of clusters, tolerance, and epochs\n",
      "\n",
      "    ***INPUT PARAMETERS***\n",
      "    Keyword arguments:\n",
      "    n_clusters: The number of cluster wants to get formed. Default parameter value is 2, Default parameter.\n",
      "    tolerance: minimum tolerance of average between centroids. difference of average less than tolerance, cluster     optimized, Default parameter\n",
      "    epochs: number of iterations for finding best cluster, Default parameter\n",
      "    \n"
     ]
    }
   ],
   "source": [
    "print(clus.__doc__)"
   ]
  },
  {
   "cell_type": "code",
   "execution_count": 159,
   "metadata": {},
   "outputs": [
    {
     "name": "stderr",
     "output_type": "stream",
     "text": [
      "..\\lib\\cluster\\kmeans.py:77: RuntimeWarning: invalid value encountered in true_divide\n",
      "  if np.sum((current_centroid - original_centroid) / original_centroid * 100.0) > self.tol:\n"
     ]
    }
   ],
   "source": [
    "#Not able to find the best means. Run time error\n",
    "clus.fit(train_X)"
   ]
  },
  {
   "cell_type": "code",
   "execution_count": 160,
   "metadata": {},
   "outputs": [
    {
     "data": {
      "text/html": [
       "<div>\n",
       "<style>\n",
       "    .dataframe thead tr:only-child th {\n",
       "        text-align: right;\n",
       "    }\n",
       "\n",
       "    .dataframe thead th {\n",
       "        text-align: left;\n",
       "    }\n",
       "\n",
       "    .dataframe tbody tr th {\n",
       "        vertical-align: top;\n",
       "    }\n",
       "</style>\n",
       "<table border=\"1\" class=\"dataframe\">\n",
       "  <thead>\n",
       "    <tr style=\"text-align: right;\">\n",
       "      <th></th>\n",
       "      <th>abandoned</th>\n",
       "      <th>abhor</th>\n",
       "      <th>ability</th>\n",
       "      <th>abode</th>\n",
       "      <th>absolute</th>\n",
       "      <th>absolutely</th>\n",
       "      <th>absolutly</th>\n",
       "      <th>absorb</th>\n",
       "      <th>abused</th>\n",
       "      <th>accept</th>\n",
       "      <th>...</th>\n",
       "      <th>yield</th>\n",
       "      <th>yourlife</th>\n",
       "      <th>youve</th>\n",
       "      <th>yrs</th>\n",
       "      <th>zarent</th>\n",
       "      <th>zipper</th>\n",
       "      <th>zone</th>\n",
       "      <th>zoom</th>\n",
       "      <th>zoombrowser</th>\n",
       "      <th>zooms</th>\n",
       "    </tr>\n",
       "  </thead>\n",
       "  <tbody>\n",
       "    <tr>\n",
       "      <th>count</th>\n",
       "      <td>1273.000000</td>\n",
       "      <td>1273.000000</td>\n",
       "      <td>1273.00000</td>\n",
       "      <td>1273.000000</td>\n",
       "      <td>1273.000000</td>\n",
       "      <td>1273.000000</td>\n",
       "      <td>1273.000000</td>\n",
       "      <td>1273.000000</td>\n",
       "      <td>1273.000000</td>\n",
       "      <td>1273.000000</td>\n",
       "      <td>...</td>\n",
       "      <td>1273.000000</td>\n",
       "      <td>1273.000000</td>\n",
       "      <td>1273.0</td>\n",
       "      <td>1273.000000</td>\n",
       "      <td>1273.000000</td>\n",
       "      <td>1273.000000</td>\n",
       "      <td>1273.000000</td>\n",
       "      <td>1273.000000</td>\n",
       "      <td>1273.000000</td>\n",
       "      <td>1273.000000</td>\n",
       "    </tr>\n",
       "    <tr>\n",
       "      <th>mean</th>\n",
       "      <td>0.000803</td>\n",
       "      <td>0.000625</td>\n",
       "      <td>0.00170</td>\n",
       "      <td>0.001406</td>\n",
       "      <td>0.001406</td>\n",
       "      <td>0.005216</td>\n",
       "      <td>0.000895</td>\n",
       "      <td>0.000433</td>\n",
       "      <td>0.005623</td>\n",
       "      <td>0.000937</td>\n",
       "      <td>...</td>\n",
       "      <td>0.000511</td>\n",
       "      <td>0.000803</td>\n",
       "      <td>0.0</td>\n",
       "      <td>0.000803</td>\n",
       "      <td>0.000703</td>\n",
       "      <td>0.000937</td>\n",
       "      <td>0.003212</td>\n",
       "      <td>0.008567</td>\n",
       "      <td>0.001406</td>\n",
       "      <td>0.001451</td>\n",
       "    </tr>\n",
       "    <tr>\n",
       "      <th>std</th>\n",
       "      <td>0.028662</td>\n",
       "      <td>0.022293</td>\n",
       "      <td>0.03637</td>\n",
       "      <td>0.050159</td>\n",
       "      <td>0.050159</td>\n",
       "      <td>0.080355</td>\n",
       "      <td>0.026578</td>\n",
       "      <td>0.015434</td>\n",
       "      <td>0.200636</td>\n",
       "      <td>0.033439</td>\n",
       "      <td>...</td>\n",
       "      <td>0.018240</td>\n",
       "      <td>0.028662</td>\n",
       "      <td>0.0</td>\n",
       "      <td>0.028662</td>\n",
       "      <td>0.025079</td>\n",
       "      <td>0.033439</td>\n",
       "      <td>0.064953</td>\n",
       "      <td>0.089049</td>\n",
       "      <td>0.050159</td>\n",
       "      <td>0.036595</td>\n",
       "    </tr>\n",
       "    <tr>\n",
       "      <th>min</th>\n",
       "      <td>0.000000</td>\n",
       "      <td>0.000000</td>\n",
       "      <td>0.00000</td>\n",
       "      <td>0.000000</td>\n",
       "      <td>0.000000</td>\n",
       "      <td>0.000000</td>\n",
       "      <td>0.000000</td>\n",
       "      <td>0.000000</td>\n",
       "      <td>0.000000</td>\n",
       "      <td>0.000000</td>\n",
       "      <td>...</td>\n",
       "      <td>0.000000</td>\n",
       "      <td>0.000000</td>\n",
       "      <td>0.0</td>\n",
       "      <td>0.000000</td>\n",
       "      <td>0.000000</td>\n",
       "      <td>0.000000</td>\n",
       "      <td>0.000000</td>\n",
       "      <td>0.000000</td>\n",
       "      <td>0.000000</td>\n",
       "      <td>0.000000</td>\n",
       "    </tr>\n",
       "    <tr>\n",
       "      <th>25%</th>\n",
       "      <td>0.000000</td>\n",
       "      <td>0.000000</td>\n",
       "      <td>0.00000</td>\n",
       "      <td>0.000000</td>\n",
       "      <td>0.000000</td>\n",
       "      <td>0.000000</td>\n",
       "      <td>0.000000</td>\n",
       "      <td>0.000000</td>\n",
       "      <td>0.000000</td>\n",
       "      <td>0.000000</td>\n",
       "      <td>...</td>\n",
       "      <td>0.000000</td>\n",
       "      <td>0.000000</td>\n",
       "      <td>0.0</td>\n",
       "      <td>0.000000</td>\n",
       "      <td>0.000000</td>\n",
       "      <td>0.000000</td>\n",
       "      <td>0.000000</td>\n",
       "      <td>0.000000</td>\n",
       "      <td>0.000000</td>\n",
       "      <td>0.000000</td>\n",
       "    </tr>\n",
       "    <tr>\n",
       "      <th>50%</th>\n",
       "      <td>0.000000</td>\n",
       "      <td>0.000000</td>\n",
       "      <td>0.00000</td>\n",
       "      <td>0.000000</td>\n",
       "      <td>0.000000</td>\n",
       "      <td>0.000000</td>\n",
       "      <td>0.000000</td>\n",
       "      <td>0.000000</td>\n",
       "      <td>0.000000</td>\n",
       "      <td>0.000000</td>\n",
       "      <td>...</td>\n",
       "      <td>0.000000</td>\n",
       "      <td>0.000000</td>\n",
       "      <td>0.0</td>\n",
       "      <td>0.000000</td>\n",
       "      <td>0.000000</td>\n",
       "      <td>0.000000</td>\n",
       "      <td>0.000000</td>\n",
       "      <td>0.000000</td>\n",
       "      <td>0.000000</td>\n",
       "      <td>0.000000</td>\n",
       "    </tr>\n",
       "    <tr>\n",
       "      <th>75%</th>\n",
       "      <td>0.000000</td>\n",
       "      <td>0.000000</td>\n",
       "      <td>0.00000</td>\n",
       "      <td>0.000000</td>\n",
       "      <td>0.000000</td>\n",
       "      <td>0.000000</td>\n",
       "      <td>0.000000</td>\n",
       "      <td>0.000000</td>\n",
       "      <td>0.000000</td>\n",
       "      <td>0.000000</td>\n",
       "      <td>...</td>\n",
       "      <td>0.000000</td>\n",
       "      <td>0.000000</td>\n",
       "      <td>0.0</td>\n",
       "      <td>0.000000</td>\n",
       "      <td>0.000000</td>\n",
       "      <td>0.000000</td>\n",
       "      <td>0.000000</td>\n",
       "      <td>0.000000</td>\n",
       "      <td>0.000000</td>\n",
       "      <td>0.000000</td>\n",
       "    </tr>\n",
       "    <tr>\n",
       "      <th>max</th>\n",
       "      <td>1.022645</td>\n",
       "      <td>0.795390</td>\n",
       "      <td>0.86570</td>\n",
       "      <td>1.789628</td>\n",
       "      <td>1.789628</td>\n",
       "      <td>1.788918</td>\n",
       "      <td>0.923624</td>\n",
       "      <td>0.550655</td>\n",
       "      <td>7.158514</td>\n",
       "      <td>1.193086</td>\n",
       "      <td>...</td>\n",
       "      <td>0.650774</td>\n",
       "      <td>1.022645</td>\n",
       "      <td>0.0</td>\n",
       "      <td>1.022645</td>\n",
       "      <td>0.894814</td>\n",
       "      <td>1.193086</td>\n",
       "      <td>1.924073</td>\n",
       "      <td>1.506486</td>\n",
       "      <td>1.789628</td>\n",
       "      <td>0.923624</td>\n",
       "    </tr>\n",
       "  </tbody>\n",
       "</table>\n",
       "<p>8 rows × 2511 columns</p>\n",
       "</div>"
      ],
      "text/plain": [
       "         abandoned        abhor     ability        abode     absolute  \\\n",
       "count  1273.000000  1273.000000  1273.00000  1273.000000  1273.000000   \n",
       "mean      0.000803     0.000625     0.00170     0.001406     0.001406   \n",
       "std       0.028662     0.022293     0.03637     0.050159     0.050159   \n",
       "min       0.000000     0.000000     0.00000     0.000000     0.000000   \n",
       "25%       0.000000     0.000000     0.00000     0.000000     0.000000   \n",
       "50%       0.000000     0.000000     0.00000     0.000000     0.000000   \n",
       "75%       0.000000     0.000000     0.00000     0.000000     0.000000   \n",
       "max       1.022645     0.795390     0.86570     1.789628     1.789628   \n",
       "\n",
       "        absolutely    absolutly       absorb       abused       accept  \\\n",
       "count  1273.000000  1273.000000  1273.000000  1273.000000  1273.000000   \n",
       "mean      0.005216     0.000895     0.000433     0.005623     0.000937   \n",
       "std       0.080355     0.026578     0.015434     0.200636     0.033439   \n",
       "min       0.000000     0.000000     0.000000     0.000000     0.000000   \n",
       "25%       0.000000     0.000000     0.000000     0.000000     0.000000   \n",
       "50%       0.000000     0.000000     0.000000     0.000000     0.000000   \n",
       "75%       0.000000     0.000000     0.000000     0.000000     0.000000   \n",
       "max       1.788918     0.923624     0.550655     7.158514     1.193086   \n",
       "\n",
       "          ...             yield     yourlife   youve          yrs  \\\n",
       "count     ...       1273.000000  1273.000000  1273.0  1273.000000   \n",
       "mean      ...          0.000511     0.000803     0.0     0.000803   \n",
       "std       ...          0.018240     0.028662     0.0     0.028662   \n",
       "min       ...          0.000000     0.000000     0.0     0.000000   \n",
       "25%       ...          0.000000     0.000000     0.0     0.000000   \n",
       "50%       ...          0.000000     0.000000     0.0     0.000000   \n",
       "75%       ...          0.000000     0.000000     0.0     0.000000   \n",
       "max       ...          0.650774     1.022645     0.0     1.022645   \n",
       "\n",
       "            zarent       zipper         zone         zoom  zoombrowser  \\\n",
       "count  1273.000000  1273.000000  1273.000000  1273.000000  1273.000000   \n",
       "mean      0.000703     0.000937     0.003212     0.008567     0.001406   \n",
       "std       0.025079     0.033439     0.064953     0.089049     0.050159   \n",
       "min       0.000000     0.000000     0.000000     0.000000     0.000000   \n",
       "25%       0.000000     0.000000     0.000000     0.000000     0.000000   \n",
       "50%       0.000000     0.000000     0.000000     0.000000     0.000000   \n",
       "75%       0.000000     0.000000     0.000000     0.000000     0.000000   \n",
       "max       0.894814     1.193086     1.924073     1.506486     1.789628   \n",
       "\n",
       "             zooms  \n",
       "count  1273.000000  \n",
       "mean      0.001451  \n",
       "std       0.036595  \n",
       "min       0.000000  \n",
       "25%       0.000000  \n",
       "50%       0.000000  \n",
       "75%       0.000000  \n",
       "max       0.923624  \n",
       "\n",
       "[8 rows x 2511 columns]"
      ]
     },
     "execution_count": 160,
     "metadata": {},
     "output_type": "execute_result"
    }
   ],
   "source": [
    "main_df.describe()"
   ]
  },
  {
   "cell_type": "markdown",
   "metadata": {},
   "source": [
    "### Confusion matrix\n",
    "\n",
    "sklearn.metrics.confusion_matrix(y_true, y_pred, labels=None, sample_weight=None)\n",
    "\n",
    "http://scikit-learn.org/stable/modules/generated/sklearn.metrics.confusion_matrix.html\n"
   ]
  },
  {
   "cell_type": "code",
   "execution_count": 161,
   "metadata": {},
   "outputs": [
    {
     "data": {
      "text/plain": [
       "KMeans(algorithm='auto', copy_x=True, init='k-means++', max_iter=300,\n",
       "    n_clusters=2, n_init=10, n_jobs=1, precompute_distances='auto',\n",
       "    random_state=None, tol=0.0001, verbose=0)"
      ]
     },
     "execution_count": 161,
     "metadata": {},
     "output_type": "execute_result"
    }
   ],
   "source": [
    "from sklearn.cluster import KMeans\n",
    "cl = KMeans(n_clusters=2)\n",
    "cl.fit(train_X)"
   ]
  },
  {
   "cell_type": "code",
   "execution_count": 162,
   "metadata": {
    "collapsed": true
   },
   "outputs": [],
   "source": [
    "tfidf1 = TfIdf()\n",
    "values_2 = tfidf.tfidf_matrix(path_to_corpus=path_to_corpus, join_corpus = False)"
   ]
  },
  {
   "cell_type": "code",
   "execution_count": 163,
   "metadata": {},
   "outputs": [
    {
     "data": {
      "text/plain": [
       "[{'canon': 0.5954080281083677,\n",
       "  'enjoyed': 1.1159459651972445,\n",
       "  'powershot': 1.0348529435756115,\n",
       "  'sd': 0.6189646352396444,\n",
       "  'shooting': 0.8653933714981709}]"
      ]
     },
     "execution_count": 163,
     "metadata": {},
     "output_type": "execute_result"
    }
   ],
   "source": [
    "values_2[1][:1]"
   ]
  },
  {
   "cell_type": "code",
   "execution_count": 164,
   "metadata": {},
   "outputs": [
    {
     "data": {
      "text/html": [
       "<div>\n",
       "<style>\n",
       "    .dataframe thead tr:only-child th {\n",
       "        text-align: right;\n",
       "    }\n",
       "\n",
       "    .dataframe thead th {\n",
       "        text-align: left;\n",
       "    }\n",
       "\n",
       "    .dataframe tbody tr th {\n",
       "        vertical-align: top;\n",
       "    }\n",
       "</style>\n",
       "<table border=\"1\" class=\"dataframe\">\n",
       "  <thead>\n",
       "    <tr style=\"text-align: right;\">\n",
       "      <th></th>\n",
       "      <th>abandoned</th>\n",
       "      <th>abhor</th>\n",
       "      <th>abode</th>\n",
       "      <th>absolute</th>\n",
       "      <th>absolutely</th>\n",
       "      <th>absolutly</th>\n",
       "      <th>absorb</th>\n",
       "      <th>access</th>\n",
       "      <th>accompanying</th>\n",
       "      <th>accuracy</th>\n",
       "      <th>...</th>\n",
       "      <th>wthe</th>\n",
       "      <th>wword</th>\n",
       "      <th>xp</th>\n",
       "      <th>yeah</th>\n",
       "      <th>year</th>\n",
       "      <th>years</th>\n",
       "      <th>yelling</th>\n",
       "      <th>youve</th>\n",
       "      <th>yrs</th>\n",
       "      <th>zone</th>\n",
       "    </tr>\n",
       "  </thead>\n",
       "  <tbody>\n",
       "    <tr>\n",
       "      <th>0</th>\n",
       "      <td>NaN</td>\n",
       "      <td>NaN</td>\n",
       "      <td>NaN</td>\n",
       "      <td>NaN</td>\n",
       "      <td>NaN</td>\n",
       "      <td>NaN</td>\n",
       "      <td>NaN</td>\n",
       "      <td>NaN</td>\n",
       "      <td>NaN</td>\n",
       "      <td>NaN</td>\n",
       "      <td>...</td>\n",
       "      <td>NaN</td>\n",
       "      <td>NaN</td>\n",
       "      <td>NaN</td>\n",
       "      <td>NaN</td>\n",
       "      <td>NaN</td>\n",
       "      <td>NaN</td>\n",
       "      <td>NaN</td>\n",
       "      <td>0.0</td>\n",
       "      <td>NaN</td>\n",
       "      <td>NaN</td>\n",
       "    </tr>\n",
       "  </tbody>\n",
       "</table>\n",
       "<p>1 rows × 1610 columns</p>\n",
       "</div>"
      ],
      "text/plain": [
       "   abandoned  abhor  abode  absolute  absolutely  absolutly  absorb  access  \\\n",
       "0        NaN    NaN    NaN       NaN         NaN        NaN     NaN     NaN   \n",
       "\n",
       "   accompanying  accuracy  ...   wthe  wword  xp  yeah  year  years  yelling  \\\n",
       "0           NaN       NaN  ...    NaN    NaN NaN   NaN   NaN    NaN      NaN   \n",
       "\n",
       "   youve  yrs  zone  \n",
       "0    0.0  NaN   NaN  \n",
       "\n",
       "[1 rows x 1610 columns]"
      ]
     },
     "execution_count": 164,
     "metadata": {},
     "output_type": "execute_result"
    },
    {
     "data": {
      "text/html": [
       "<div>\n",
       "<style>\n",
       "    .dataframe thead tr:only-child th {\n",
       "        text-align: right;\n",
       "    }\n",
       "\n",
       "    .dataframe thead th {\n",
       "        text-align: left;\n",
       "    }\n",
       "\n",
       "    .dataframe tbody tr th {\n",
       "        vertical-align: top;\n",
       "    }\n",
       "</style>\n",
       "<table border=\"1\" class=\"dataframe\">\n",
       "  <thead>\n",
       "    <tr style=\"text-align: right;\">\n",
       "      <th></th>\n",
       "      <th>ability</th>\n",
       "      <th>absolutely</th>\n",
       "      <th>abused</th>\n",
       "      <th>accept</th>\n",
       "      <th>acceptable</th>\n",
       "      <th>accurately</th>\n",
       "      <th>achieve</th>\n",
       "      <th>activation</th>\n",
       "      <th>actual</th>\n",
       "      <th>added</th>\n",
       "      <th>...</th>\n",
       "      <th>year</th>\n",
       "      <th>years</th>\n",
       "      <th>yield</th>\n",
       "      <th>yourlife</th>\n",
       "      <th>youve</th>\n",
       "      <th>zarent</th>\n",
       "      <th>zipper</th>\n",
       "      <th>zoom</th>\n",
       "      <th>zoombrowser</th>\n",
       "      <th>zooms</th>\n",
       "    </tr>\n",
       "  </thead>\n",
       "  <tbody>\n",
       "    <tr>\n",
       "      <th>0</th>\n",
       "      <td>NaN</td>\n",
       "      <td>NaN</td>\n",
       "      <td>NaN</td>\n",
       "      <td>NaN</td>\n",
       "      <td>NaN</td>\n",
       "      <td>NaN</td>\n",
       "      <td>NaN</td>\n",
       "      <td>NaN</td>\n",
       "      <td>NaN</td>\n",
       "      <td>NaN</td>\n",
       "      <td>...</td>\n",
       "      <td>NaN</td>\n",
       "      <td>NaN</td>\n",
       "      <td>NaN</td>\n",
       "      <td>NaN</td>\n",
       "      <td>0.0</td>\n",
       "      <td>NaN</td>\n",
       "      <td>NaN</td>\n",
       "      <td>NaN</td>\n",
       "      <td>NaN</td>\n",
       "      <td>NaN</td>\n",
       "    </tr>\n",
       "    <tr>\n",
       "      <th>0</th>\n",
       "      <td>NaN</td>\n",
       "      <td>NaN</td>\n",
       "      <td>NaN</td>\n",
       "      <td>NaN</td>\n",
       "      <td>NaN</td>\n",
       "      <td>NaN</td>\n",
       "      <td>NaN</td>\n",
       "      <td>NaN</td>\n",
       "      <td>NaN</td>\n",
       "      <td>NaN</td>\n",
       "      <td>...</td>\n",
       "      <td>NaN</td>\n",
       "      <td>NaN</td>\n",
       "      <td>NaN</td>\n",
       "      <td>NaN</td>\n",
       "      <td>NaN</td>\n",
       "      <td>NaN</td>\n",
       "      <td>NaN</td>\n",
       "      <td>NaN</td>\n",
       "      <td>NaN</td>\n",
       "      <td>NaN</td>\n",
       "    </tr>\n",
       "  </tbody>\n",
       "</table>\n",
       "<p>2 rows × 1333 columns</p>\n",
       "</div>"
      ],
      "text/plain": [
       "   ability  absolutely  abused  accept  acceptable  accurately  achieve  \\\n",
       "0      NaN         NaN     NaN     NaN         NaN         NaN      NaN   \n",
       "0      NaN         NaN     NaN     NaN         NaN         NaN      NaN   \n",
       "\n",
       "   activation  actual  added  ...    year  years  yield  yourlife  youve  \\\n",
       "0         NaN     NaN    NaN  ...     NaN    NaN    NaN       NaN    0.0   \n",
       "0         NaN     NaN    NaN  ...     NaN    NaN    NaN       NaN    NaN   \n",
       "\n",
       "   zarent  zipper  zoom  zoombrowser  zooms  \n",
       "0     NaN     NaN   NaN          NaN    NaN  \n",
       "0     NaN     NaN   NaN          NaN    NaN  \n",
       "\n",
       "[2 rows x 1333 columns]"
      ]
     },
     "execution_count": 164,
     "metadata": {},
     "output_type": "execute_result"
    }
   ],
   "source": [
    "corpus1 = convert_list_to_df(values_2[0])\n",
    "corpus2 = convert_list_to_df(values_2[1])\n",
    "corpus1.head(1)\n",
    "corpus2.head(2)"
   ]
  },
  {
   "cell_type": "code",
   "execution_count": 165,
   "metadata": {
    "collapsed": true
   },
   "outputs": [],
   "source": [
    "# Adding index to DF\n",
    "corpus1.index = range(len(corpus1.index))\n",
    "corpus2.index = range(len(corpus2.index))\n",
    "corpus1 = corpus1.fillna(0)\n",
    "corpus2 = corpus2.fillna(0)\n",
    "train_X1 = np.array(corpus1)\n",
    "train_X2 = np.array(corpus2)\n",
    "# X = np.concatenate((train_X1, train_X2), axis = 0)\n",
    "# X\n",
    "# train_X1 = preprocessing.scale(train_X1)\n",
    "# train_X2 = preprocessing.scale(train_X2)"
   ]
  },
  {
   "cell_type": "code",
   "execution_count": 166,
   "metadata": {},
   "outputs": [
    {
     "data": {
      "text/html": [
       "<div>\n",
       "<style>\n",
       "    .dataframe thead tr:only-child th {\n",
       "        text-align: right;\n",
       "    }\n",
       "\n",
       "    .dataframe thead th {\n",
       "        text-align: left;\n",
       "    }\n",
       "\n",
       "    .dataframe tbody tr th {\n",
       "        vertical-align: top;\n",
       "    }\n",
       "</style>\n",
       "<table border=\"1\" class=\"dataframe\">\n",
       "  <thead>\n",
       "    <tr style=\"text-align: right;\">\n",
       "      <th></th>\n",
       "      <th>abandoned</th>\n",
       "      <th>abhor</th>\n",
       "      <th>abode</th>\n",
       "      <th>absolute</th>\n",
       "      <th>absolutely</th>\n",
       "      <th>absolutly</th>\n",
       "      <th>absorb</th>\n",
       "      <th>access</th>\n",
       "      <th>accompanying</th>\n",
       "      <th>accuracy</th>\n",
       "      <th>...</th>\n",
       "      <th>wthe</th>\n",
       "      <th>wword</th>\n",
       "      <th>xp</th>\n",
       "      <th>yeah</th>\n",
       "      <th>year</th>\n",
       "      <th>years</th>\n",
       "      <th>yelling</th>\n",
       "      <th>youve</th>\n",
       "      <th>yrs</th>\n",
       "      <th>zone</th>\n",
       "    </tr>\n",
       "  </thead>\n",
       "  <tbody>\n",
       "    <tr>\n",
       "      <th>0</th>\n",
       "      <td>0.0</td>\n",
       "      <td>0.0</td>\n",
       "      <td>0.0</td>\n",
       "      <td>0.0</td>\n",
       "      <td>0.0</td>\n",
       "      <td>0.0</td>\n",
       "      <td>0.0</td>\n",
       "      <td>0.0</td>\n",
       "      <td>0.0</td>\n",
       "      <td>0.0</td>\n",
       "      <td>...</td>\n",
       "      <td>0.0</td>\n",
       "      <td>0.0</td>\n",
       "      <td>0.0</td>\n",
       "      <td>0.0</td>\n",
       "      <td>0.0</td>\n",
       "      <td>0.0</td>\n",
       "      <td>0.0</td>\n",
       "      <td>0.0</td>\n",
       "      <td>0.0</td>\n",
       "      <td>0.0</td>\n",
       "    </tr>\n",
       "    <tr>\n",
       "      <th>1</th>\n",
       "      <td>0.0</td>\n",
       "      <td>0.0</td>\n",
       "      <td>0.0</td>\n",
       "      <td>0.0</td>\n",
       "      <td>0.0</td>\n",
       "      <td>0.0</td>\n",
       "      <td>0.0</td>\n",
       "      <td>0.0</td>\n",
       "      <td>0.0</td>\n",
       "      <td>0.0</td>\n",
       "      <td>...</td>\n",
       "      <td>0.0</td>\n",
       "      <td>0.0</td>\n",
       "      <td>0.0</td>\n",
       "      <td>0.0</td>\n",
       "      <td>0.0</td>\n",
       "      <td>0.0</td>\n",
       "      <td>0.0</td>\n",
       "      <td>0.0</td>\n",
       "      <td>0.0</td>\n",
       "      <td>0.0</td>\n",
       "    </tr>\n",
       "  </tbody>\n",
       "</table>\n",
       "<p>2 rows × 1610 columns</p>\n",
       "</div>"
      ],
      "text/plain": [
       "   abandoned  abhor  abode  absolute  absolutely  absolutly  absorb  access  \\\n",
       "0        0.0    0.0    0.0       0.0         0.0        0.0     0.0     0.0   \n",
       "1        0.0    0.0    0.0       0.0         0.0        0.0     0.0     0.0   \n",
       "\n",
       "   accompanying  accuracy  ...   wthe  wword   xp  yeah  year  years  yelling  \\\n",
       "0           0.0       0.0  ...    0.0    0.0  0.0   0.0   0.0    0.0      0.0   \n",
       "1           0.0       0.0  ...    0.0    0.0  0.0   0.0   0.0    0.0      0.0   \n",
       "\n",
       "   youve  yrs  zone  \n",
       "0    0.0  0.0   0.0  \n",
       "1    0.0  0.0   0.0  \n",
       "\n",
       "[2 rows x 1610 columns]"
      ]
     },
     "execution_count": 166,
     "metadata": {},
     "output_type": "execute_result"
    },
    {
     "data": {
      "text/plain": [
       "(748, 1610)"
      ]
     },
     "execution_count": 166,
     "metadata": {},
     "output_type": "execute_result"
    }
   ],
   "source": [
    "corpus1.head(2)\n",
    "corpus1.shape"
   ]
  },
  {
   "cell_type": "code",
   "execution_count": 167,
   "metadata": {},
   "outputs": [
    {
     "data": {
      "text/html": [
       "<div>\n",
       "<style>\n",
       "    .dataframe thead tr:only-child th {\n",
       "        text-align: right;\n",
       "    }\n",
       "\n",
       "    .dataframe thead th {\n",
       "        text-align: left;\n",
       "    }\n",
       "\n",
       "    .dataframe tbody tr th {\n",
       "        vertical-align: top;\n",
       "    }\n",
       "</style>\n",
       "<table border=\"1\" class=\"dataframe\">\n",
       "  <thead>\n",
       "    <tr style=\"text-align: right;\">\n",
       "      <th></th>\n",
       "      <th>abandoned</th>\n",
       "      <th>abhor</th>\n",
       "      <th>abode</th>\n",
       "      <th>absolute</th>\n",
       "      <th>absolutely</th>\n",
       "      <th>absolutly</th>\n",
       "      <th>absorb</th>\n",
       "      <th>access</th>\n",
       "      <th>accompanying</th>\n",
       "      <th>accuracy</th>\n",
       "      <th>...</th>\n",
       "      <th>wthe</th>\n",
       "      <th>wword</th>\n",
       "      <th>xp</th>\n",
       "      <th>yeah</th>\n",
       "      <th>year</th>\n",
       "      <th>years</th>\n",
       "      <th>yelling</th>\n",
       "      <th>youve</th>\n",
       "      <th>yrs</th>\n",
       "      <th>zone</th>\n",
       "    </tr>\n",
       "  </thead>\n",
       "  <tbody>\n",
       "    <tr>\n",
       "      <th>369</th>\n",
       "      <td>0.0</td>\n",
       "      <td>0.0</td>\n",
       "      <td>0.0</td>\n",
       "      <td>0.0</td>\n",
       "      <td>0.0</td>\n",
       "      <td>0.0</td>\n",
       "      <td>0.0</td>\n",
       "      <td>0.0</td>\n",
       "      <td>0.0</td>\n",
       "      <td>0.0</td>\n",
       "      <td>...</td>\n",
       "      <td>0.0</td>\n",
       "      <td>0.0</td>\n",
       "      <td>0.0</td>\n",
       "      <td>0.0</td>\n",
       "      <td>0.0</td>\n",
       "      <td>0.0</td>\n",
       "      <td>0.0</td>\n",
       "      <td>0.0</td>\n",
       "      <td>0.0</td>\n",
       "      <td>0.0</td>\n",
       "    </tr>\n",
       "    <tr>\n",
       "      <th>370</th>\n",
       "      <td>0.0</td>\n",
       "      <td>0.0</td>\n",
       "      <td>0.0</td>\n",
       "      <td>0.0</td>\n",
       "      <td>0.0</td>\n",
       "      <td>0.0</td>\n",
       "      <td>0.0</td>\n",
       "      <td>0.0</td>\n",
       "      <td>0.0</td>\n",
       "      <td>0.0</td>\n",
       "      <td>...</td>\n",
       "      <td>0.0</td>\n",
       "      <td>0.0</td>\n",
       "      <td>0.0</td>\n",
       "      <td>0.0</td>\n",
       "      <td>0.0</td>\n",
       "      <td>0.0</td>\n",
       "      <td>0.0</td>\n",
       "      <td>0.0</td>\n",
       "      <td>0.0</td>\n",
       "      <td>0.0</td>\n",
       "    </tr>\n",
       "    <tr>\n",
       "      <th>371</th>\n",
       "      <td>0.0</td>\n",
       "      <td>0.0</td>\n",
       "      <td>0.0</td>\n",
       "      <td>0.0</td>\n",
       "      <td>0.0</td>\n",
       "      <td>0.0</td>\n",
       "      <td>0.0</td>\n",
       "      <td>0.0</td>\n",
       "      <td>0.0</td>\n",
       "      <td>0.0</td>\n",
       "      <td>...</td>\n",
       "      <td>0.0</td>\n",
       "      <td>0.0</td>\n",
       "      <td>0.0</td>\n",
       "      <td>0.0</td>\n",
       "      <td>0.0</td>\n",
       "      <td>0.0</td>\n",
       "      <td>0.0</td>\n",
       "      <td>0.0</td>\n",
       "      <td>0.0</td>\n",
       "      <td>0.0</td>\n",
       "    </tr>\n",
       "  </tbody>\n",
       "</table>\n",
       "<p>3 rows × 1610 columns</p>\n",
       "</div>"
      ],
      "text/plain": [
       "     abandoned  abhor  abode  absolute  absolutely  absolutly  absorb  access  \\\n",
       "369        0.0    0.0    0.0       0.0         0.0        0.0     0.0     0.0   \n",
       "370        0.0    0.0    0.0       0.0         0.0        0.0     0.0     0.0   \n",
       "371        0.0    0.0    0.0       0.0         0.0        0.0     0.0     0.0   \n",
       "\n",
       "     accompanying  accuracy  ...   wthe  wword   xp  yeah  year  years  \\\n",
       "369           0.0       0.0  ...    0.0    0.0  0.0   0.0   0.0    0.0   \n",
       "370           0.0       0.0  ...    0.0    0.0  0.0   0.0   0.0    0.0   \n",
       "371           0.0       0.0  ...    0.0    0.0  0.0   0.0   0.0    0.0   \n",
       "\n",
       "     yelling  youve  yrs  zone  \n",
       "369      0.0    0.0  0.0   0.0  \n",
       "370      0.0    0.0  0.0   0.0  \n",
       "371      0.0    0.0  0.0   0.0  \n",
       "\n",
       "[3 rows x 1610 columns]"
      ]
     },
     "execution_count": 167,
     "metadata": {},
     "output_type": "execute_result"
    },
    {
     "data": {
      "text/html": [
       "<div>\n",
       "<style>\n",
       "    .dataframe thead tr:only-child th {\n",
       "        text-align: right;\n",
       "    }\n",
       "\n",
       "    .dataframe thead th {\n",
       "        text-align: left;\n",
       "    }\n",
       "\n",
       "    .dataframe tbody tr th {\n",
       "        vertical-align: top;\n",
       "    }\n",
       "</style>\n",
       "<table border=\"1\" class=\"dataframe\">\n",
       "  <thead>\n",
       "    <tr style=\"text-align: right;\">\n",
       "      <th></th>\n",
       "      <th>abandoned</th>\n",
       "      <th>abhor</th>\n",
       "      <th>abode</th>\n",
       "      <th>absolute</th>\n",
       "      <th>absolutely</th>\n",
       "      <th>absolutly</th>\n",
       "      <th>absorb</th>\n",
       "      <th>access</th>\n",
       "      <th>accompanying</th>\n",
       "      <th>accuracy</th>\n",
       "      <th>...</th>\n",
       "      <th>wthe</th>\n",
       "      <th>wword</th>\n",
       "      <th>xp</th>\n",
       "      <th>yeah</th>\n",
       "      <th>year</th>\n",
       "      <th>years</th>\n",
       "      <th>yelling</th>\n",
       "      <th>youve</th>\n",
       "      <th>yrs</th>\n",
       "      <th>zone</th>\n",
       "    </tr>\n",
       "  </thead>\n",
       "  <tbody>\n",
       "    <tr>\n",
       "      <th>372</th>\n",
       "      <td>0.0</td>\n",
       "      <td>0.0</td>\n",
       "      <td>0.0</td>\n",
       "      <td>0.0</td>\n",
       "      <td>0.0</td>\n",
       "      <td>0.0</td>\n",
       "      <td>0.0</td>\n",
       "      <td>0.0</td>\n",
       "      <td>0.0</td>\n",
       "      <td>0.0</td>\n",
       "      <td>...</td>\n",
       "      <td>0.0</td>\n",
       "      <td>0.0</td>\n",
       "      <td>0.0</td>\n",
       "      <td>0.0</td>\n",
       "      <td>0.0</td>\n",
       "      <td>0.000000</td>\n",
       "      <td>0.0</td>\n",
       "      <td>0.0</td>\n",
       "      <td>0.0</td>\n",
       "      <td>0.0</td>\n",
       "    </tr>\n",
       "    <tr>\n",
       "      <th>373</th>\n",
       "      <td>0.0</td>\n",
       "      <td>0.0</td>\n",
       "      <td>0.0</td>\n",
       "      <td>0.0</td>\n",
       "      <td>0.0</td>\n",
       "      <td>0.0</td>\n",
       "      <td>0.0</td>\n",
       "      <td>0.0</td>\n",
       "      <td>0.0</td>\n",
       "      <td>0.0</td>\n",
       "      <td>...</td>\n",
       "      <td>0.0</td>\n",
       "      <td>0.0</td>\n",
       "      <td>0.0</td>\n",
       "      <td>0.0</td>\n",
       "      <td>0.0</td>\n",
       "      <td>0.000000</td>\n",
       "      <td>0.0</td>\n",
       "      <td>0.0</td>\n",
       "      <td>0.0</td>\n",
       "      <td>0.0</td>\n",
       "    </tr>\n",
       "    <tr>\n",
       "      <th>374</th>\n",
       "      <td>0.0</td>\n",
       "      <td>0.0</td>\n",
       "      <td>0.0</td>\n",
       "      <td>0.0</td>\n",
       "      <td>0.0</td>\n",
       "      <td>0.0</td>\n",
       "      <td>0.0</td>\n",
       "      <td>0.0</td>\n",
       "      <td>0.0</td>\n",
       "      <td>0.0</td>\n",
       "      <td>...</td>\n",
       "      <td>0.0</td>\n",
       "      <td>0.0</td>\n",
       "      <td>0.0</td>\n",
       "      <td>0.0</td>\n",
       "      <td>0.0</td>\n",
       "      <td>0.000000</td>\n",
       "      <td>0.0</td>\n",
       "      <td>0.0</td>\n",
       "      <td>0.0</td>\n",
       "      <td>0.0</td>\n",
       "    </tr>\n",
       "    <tr>\n",
       "      <th>375</th>\n",
       "      <td>0.0</td>\n",
       "      <td>0.0</td>\n",
       "      <td>0.0</td>\n",
       "      <td>0.0</td>\n",
       "      <td>0.0</td>\n",
       "      <td>0.0</td>\n",
       "      <td>0.0</td>\n",
       "      <td>0.0</td>\n",
       "      <td>0.0</td>\n",
       "      <td>0.0</td>\n",
       "      <td>...</td>\n",
       "      <td>0.0</td>\n",
       "      <td>0.0</td>\n",
       "      <td>0.0</td>\n",
       "      <td>0.0</td>\n",
       "      <td>0.0</td>\n",
       "      <td>1.409607</td>\n",
       "      <td>0.0</td>\n",
       "      <td>0.0</td>\n",
       "      <td>0.0</td>\n",
       "      <td>0.0</td>\n",
       "    </tr>\n",
       "    <tr>\n",
       "      <th>376</th>\n",
       "      <td>0.0</td>\n",
       "      <td>0.0</td>\n",
       "      <td>0.0</td>\n",
       "      <td>0.0</td>\n",
       "      <td>0.0</td>\n",
       "      <td>0.0</td>\n",
       "      <td>0.0</td>\n",
       "      <td>0.0</td>\n",
       "      <td>0.0</td>\n",
       "      <td>0.0</td>\n",
       "      <td>...</td>\n",
       "      <td>0.0</td>\n",
       "      <td>0.0</td>\n",
       "      <td>0.0</td>\n",
       "      <td>0.0</td>\n",
       "      <td>0.0</td>\n",
       "      <td>0.000000</td>\n",
       "      <td>0.0</td>\n",
       "      <td>0.0</td>\n",
       "      <td>0.0</td>\n",
       "      <td>0.0</td>\n",
       "    </tr>\n",
       "  </tbody>\n",
       "</table>\n",
       "<p>5 rows × 1610 columns</p>\n",
       "</div>"
      ],
      "text/plain": [
       "     abandoned  abhor  abode  absolute  absolutely  absolutly  absorb  access  \\\n",
       "372        0.0    0.0    0.0       0.0         0.0        0.0     0.0     0.0   \n",
       "373        0.0    0.0    0.0       0.0         0.0        0.0     0.0     0.0   \n",
       "374        0.0    0.0    0.0       0.0         0.0        0.0     0.0     0.0   \n",
       "375        0.0    0.0    0.0       0.0         0.0        0.0     0.0     0.0   \n",
       "376        0.0    0.0    0.0       0.0         0.0        0.0     0.0     0.0   \n",
       "\n",
       "     accompanying  accuracy  ...   wthe  wword   xp  yeah  year     years  \\\n",
       "372           0.0       0.0  ...    0.0    0.0  0.0   0.0   0.0  0.000000   \n",
       "373           0.0       0.0  ...    0.0    0.0  0.0   0.0   0.0  0.000000   \n",
       "374           0.0       0.0  ...    0.0    0.0  0.0   0.0   0.0  0.000000   \n",
       "375           0.0       0.0  ...    0.0    0.0  0.0   0.0   0.0  1.409607   \n",
       "376           0.0       0.0  ...    0.0    0.0  0.0   0.0   0.0  0.000000   \n",
       "\n",
       "     yelling  youve  yrs  zone  \n",
       "372      0.0    0.0  0.0   0.0  \n",
       "373      0.0    0.0  0.0   0.0  \n",
       "374      0.0    0.0  0.0   0.0  \n",
       "375      0.0    0.0  0.0   0.0  \n",
       "376      0.0    0.0  0.0   0.0  \n",
       "\n",
       "[5 rows x 1610 columns]"
      ]
     },
     "execution_count": 167,
     "metadata": {},
     "output_type": "execute_result"
    }
   ],
   "source": [
    "first_review = corpus1[:372]\n",
    "first_review.tail(3)\n",
    "second_review = corpus1[372:]\n",
    "second_review.head()"
   ]
  },
  {
   "cell_type": "code",
   "execution_count": 168,
   "metadata": {
    "collapsed": true
   },
   "outputs": [],
   "source": [
    "first_review = preprocessing.scale(first_review)\n",
    "second_review = preprocessing.scale(second_review)\n",
    "reviews_X = np.concatenate((first_review, second_review), axis = 0)"
   ]
  },
  {
   "cell_type": "code",
   "execution_count": 169,
   "metadata": {},
   "outputs": [
    {
     "data": {
      "text/plain": [
       "(748, 1610)"
      ]
     },
     "execution_count": 169,
     "metadata": {},
     "output_type": "execute_result"
    }
   ],
   "source": [
    "reviews_X.shape"
   ]
  },
  {
   "cell_type": "code",
   "execution_count": 170,
   "metadata": {},
   "outputs": [
    {
     "data": {
      "text/plain": [
       "KMeans(algorithm='auto', copy_x=True, init='k-means++', max_iter=300,\n",
       "    n_clusters=2, n_init=10, n_jobs=1, precompute_distances='auto',\n",
       "    random_state=None, tol=0.0001, verbose=0)"
      ]
     },
     "execution_count": 170,
     "metadata": {},
     "output_type": "execute_result"
    }
   ],
   "source": [
    "from sklearn.cluster import KMeans\n",
    "cl = KMeans(n_clusters=2)\n",
    "cl.fit(reviews_X)"
   ]
  },
  {
   "cell_type": "code",
   "execution_count": 171,
   "metadata": {
    "collapsed": true
   },
   "outputs": [],
   "source": [
    "%matplotlib inline\n",
    "# import seaborn as sns"
   ]
  },
  {
   "cell_type": "code",
   "execution_count": 172,
   "metadata": {
    "collapsed": true
   },
   "outputs": [],
   "source": [
    "# sns.set(color_codes=True)"
   ]
  },
  {
   "cell_type": "code",
   "execution_count": 173,
   "metadata": {
    "collapsed": true
   },
   "outputs": [],
   "source": [
    "import matplotlib.pyplot as plt\n"
   ]
  },
  {
   "cell_type": "code",
   "execution_count": 174,
   "metadata": {},
   "outputs": [
    {
     "data": {
      "text/plain": [
       "<matplotlib.collections.PathCollection at 0x1cf39865a90>"
      ]
     },
     "execution_count": 174,
     "metadata": {},
     "output_type": "execute_result"
    },
    {
     "data": {
      "image/png": "[encoded data removed]",
      "text/plain": [
       "<matplotlib.figure.Figure at 0x1cf39b95e10>"
      ]
     },
     "metadata": {},
     "output_type": "display_data"
    }
   ],
   "source": [
    "plt.scatter(reviews_X[:,0], reviews_X[:,1])"
   ]
  },
  {
   "cell_type": "code",
   "execution_count": 175,
   "metadata": {},
   "outputs": [
    {
     "name": "stderr",
     "output_type": "stream",
     "text": [
      "C:\\ProgramData\\Anaconda3\\lib\\site-packages\\sklearn\\utils\\validation.py:395: DeprecationWarning: Passing 1d arrays as data is deprecated in 0.17 and will raise ValueError in 0.19. Reshape your data either using X.reshape(-1, 1) if your data has a single feature or X.reshape(1, -1) if it contains a single sample.\n",
      "  DeprecationWarning)\n"
     ]
    },
    {
     "data": {
      "text/plain": [
       "array([0])"
      ]
     },
     "execution_count": 175,
     "metadata": {},
     "output_type": "execute_result"
    }
   ],
   "source": [
    "cl.predict(reviews_X[600])"
   ]
  },
  {
   "cell_type": "code",
   "execution_count": 176,
   "metadata": {},
   "outputs": [
    {
     "data": {
      "text/plain": [
       "array([[2, 0, 0],\n",
       "       [0, 0, 1],\n",
       "       [1, 0, 2]])"
      ]
     },
     "execution_count": 176,
     "metadata": {},
     "output_type": "execute_result"
    }
   ],
   "source": [
    "from sklearn.metrics import confusion_matrix\n",
    "y_true = [2, 0, 2, 2, 0, 1]\n",
    "y_pred = [0, 0, 2, 2, 0, 2]\n",
    "confusion_matrix(y_true, y_pred)"
   ]
  },
  {
   "cell_type": "markdown",
   "metadata": {},
   "source": [
    "## Confusion matrix\n",
    "\n",
    "https://machinelearningmastery.com/confusion-matrix-machine-learning/\n",
    "\n",
    "“true positive” for correctly predicted event values.\n",
    "\n",
    "“false positive” for incorrectly predicted event values.\n",
    "\n",
    "“true negative” for correctly predicted no-event values.\n",
    "\n",
    "“false negative” for incorrectly predicted no-event values."
   ]
  },
  {
   "cell_type": "code",
   "execution_count": 177,
   "metadata": {},
   "outputs": [
    {
     "data": {
      "text/plain": [
       "(0, 2, 1, 1)"
      ]
     },
     "execution_count": 177,
     "metadata": {},
     "output_type": "execute_result"
    }
   ],
   "source": [
    "tn, fp, fn, tp = confusion_matrix([0, 1, 0, 1], [1, 1, 1, 0]).ravel()\n",
    "tn,fp,fn,tp"
   ]
  },
  {
   "cell_type": "code",
   "execution_count": null,
   "metadata": {
    "collapsed": true
   },
   "outputs": [],
   "source": []
  }
 ],
 "metadata": {
  "kernelspec": {
   "display_name": "Python 3",
   "language": "python",
   "name": "python3"
  },
  "language_info": {
   "codemirror_mode": {
    "name": "ipython",
    "version": 3
   },
   "file_extension": ".py",
   "mimetype": "text/x-python",
   "name": "python",
   "nbconvert_exporter": "python",
   "pygments_lexer": "ipython3",
   "version": "3.6.1"
  }
 },
 "nbformat": 4,
 "nbformat_minor": 2
}
