{
 "cells": [
  {
   "cell_type": "markdown",
   "metadata": {},
   "source": [
    "## KMeans clustering\n",
    "\n",
    "#### Objective\n",
    "\n",
    "- Implement a KMeans clustering Algorithm\n",
    "- Cluster the TFIDF matrix from the corpus."
   ]
  },
  {
   "cell_type": "markdown",
   "metadata": {},
   "source": [
    "## KMeans Clustering - Implementation steps\n",
    "\n",
    "K - Number of cluster\n",
    "\n",
    "\n",
    "- Initialize the K random centroids with dimension of 1 * len(features)\n",
    "- Initialize the previous centroid data to zero with same dimension of initial centroid\n",
    "- Calculate the distance from centroid and each of the point (Euclidian Distance)\n",
    "- Store the minimum distance to the centroid and store the minimum value\n",
    "- Calculate the mean of the clusters and assign to initial centroid\n",
    "- Repeat the process till the Mean become same or Maximum Iteration (Convergence)\n",
    "\n",
    "Ref: Andrew NG - Course Era Course - Unsupervised Learning\n"
   ]
  },
  {
   "cell_type": "code",
   "execution_count": null,
   "metadata": {
    "collapsed": true
   },
   "outputs": [],
   "source": []
  },
  {
   "cell_type": "code",
   "execution_count": 33,
   "metadata": {
    "collapsed": true
   },
   "outputs": [],
   "source": [
    "#imports for interactive notebook\n",
    "from IPython.core.interactiveshell import InteractiveShell\n",
    "InteractiveShell.ast_node_interactivity = \"all\"\n",
    "#for logs\n",
    "import logging\n",
    "logger = logging.getLogger(__name__)\n",
    "import pandas as pd\n",
    "import numpy as np"
   ]
  },
  {
   "cell_type": "code",
   "execution_count": 2,
   "metadata": {
    "collapsed": true
   },
   "outputs": [],
   "source": [
    "#reading the TFIDF MAtrix from last problem - which contain TFIDF of two corpus\n",
    "corpus = pd.read_csv(r\"C:\\Users\\ajaighosh.ramachandr\\Desktop\\AJ\\studies_ml\\kaggle\\nineleaps\\tfidf_clustering\\run\\tfidf_values_corpus1.csv\")"
   ]
  },
  {
   "cell_type": "code",
   "execution_count": 3,
   "metadata": {},
   "outputs": [
    {
     "data": {
      "text/plain": [
       "(1273, 2512)"
      ]
     },
     "execution_count": 3,
     "metadata": {},
     "output_type": "execute_result"
    },
    {
     "data": {
      "text/html": [
       "<div>\n",
       "<style>\n",
       "    .dataframe thead tr:only-child th {\n",
       "        text-align: right;\n",
       "    }\n",
       "\n",
       "    .dataframe thead th {\n",
       "        text-align: left;\n",
       "    }\n",
       "\n",
       "    .dataframe tbody tr th {\n",
       "        vertical-align: top;\n",
       "    }\n",
       "</style>\n",
       "<table border=\"1\" class=\"dataframe\">\n",
       "  <thead>\n",
       "    <tr style=\"text-align: right;\">\n",
       "      <th></th>\n",
       "      <th>Unnamed: 0</th>\n",
       "      <th>abandoned</th>\n",
       "      <th>abhor</th>\n",
       "      <th>ability</th>\n",
       "      <th>abode</th>\n",
       "      <th>absolute</th>\n",
       "      <th>absolutely</th>\n",
       "      <th>absolutly</th>\n",
       "      <th>absorb</th>\n",
       "      <th>abused</th>\n",
       "      <th>...</th>\n",
       "      <th>yield</th>\n",
       "      <th>yourlife</th>\n",
       "      <th>youve</th>\n",
       "      <th>yrs</th>\n",
       "      <th>zarent</th>\n",
       "      <th>zipper</th>\n",
       "      <th>zone</th>\n",
       "      <th>zoom</th>\n",
       "      <th>zoombrowser</th>\n",
       "      <th>zooms</th>\n",
       "    </tr>\n",
       "  </thead>\n",
       "  <tbody>\n",
       "    <tr>\n",
       "      <th>0</th>\n",
       "      <td>0</td>\n",
       "      <td>0.0</td>\n",
       "      <td>0.0</td>\n",
       "      <td>0.0</td>\n",
       "      <td>0.0</td>\n",
       "      <td>0.0</td>\n",
       "      <td>0.0</td>\n",
       "      <td>0.0</td>\n",
       "      <td>0.0</td>\n",
       "      <td>0.0</td>\n",
       "      <td>...</td>\n",
       "      <td>0.0</td>\n",
       "      <td>0.0</td>\n",
       "      <td>0.0</td>\n",
       "      <td>0.0</td>\n",
       "      <td>0.0</td>\n",
       "      <td>0.0</td>\n",
       "      <td>0.0</td>\n",
       "      <td>0.0</td>\n",
       "      <td>0.0</td>\n",
       "      <td>0.0</td>\n",
       "    </tr>\n",
       "  </tbody>\n",
       "</table>\n",
       "<p>1 rows × 2512 columns</p>\n",
       "</div>"
      ],
      "text/plain": [
       "   Unnamed: 0  abandoned  abhor  ability  abode  absolute  absolutely  \\\n",
       "0           0        0.0    0.0      0.0    0.0       0.0         0.0   \n",
       "\n",
       "   absolutly  absorb  abused  ...    yield  yourlife  youve  yrs  zarent  \\\n",
       "0        0.0     0.0     0.0  ...      0.0       0.0    0.0  0.0     0.0   \n",
       "\n",
       "   zipper  zone  zoom  zoombrowser  zooms  \n",
       "0     0.0   0.0   0.0          0.0    0.0  \n",
       "\n",
       "[1 rows x 2512 columns]"
      ]
     },
     "execution_count": 3,
     "metadata": {},
     "output_type": "execute_result"
    },
    {
     "data": {
      "text/plain": [
       "'Unnamed: 0'"
      ]
     },
     "execution_count": 3,
     "metadata": {},
     "output_type": "execute_result"
    }
   ],
   "source": [
    "# Analysing the DataFrame\n",
    "corpus.shape\n",
    "corpus.head(1)\n",
    "corpus.columns[0]\n",
    "corpus = corpus.drop(corpus.columns[0], axis = 1)"
   ]
  },
  {
   "cell_type": "code",
   "execution_count": 4,
   "metadata": {},
   "outputs": [
    {
     "data": {
      "text/html": [
       "<div>\n",
       "<style>\n",
       "    .dataframe thead tr:only-child th {\n",
       "        text-align: right;\n",
       "    }\n",
       "\n",
       "    .dataframe thead th {\n",
       "        text-align: left;\n",
       "    }\n",
       "\n",
       "    .dataframe tbody tr th {\n",
       "        vertical-align: top;\n",
       "    }\n",
       "</style>\n",
       "<table border=\"1\" class=\"dataframe\">\n",
       "  <thead>\n",
       "    <tr style=\"text-align: right;\">\n",
       "      <th></th>\n",
       "      <th>abandoned</th>\n",
       "      <th>abhor</th>\n",
       "      <th>ability</th>\n",
       "      <th>abode</th>\n",
       "      <th>absolute</th>\n",
       "      <th>absolutely</th>\n",
       "      <th>absolutly</th>\n",
       "      <th>absorb</th>\n",
       "      <th>abused</th>\n",
       "      <th>accept</th>\n",
       "      <th>...</th>\n",
       "      <th>yield</th>\n",
       "      <th>yourlife</th>\n",
       "      <th>youve</th>\n",
       "      <th>yrs</th>\n",
       "      <th>zarent</th>\n",
       "      <th>zipper</th>\n",
       "      <th>zone</th>\n",
       "      <th>zoom</th>\n",
       "      <th>zoombrowser</th>\n",
       "      <th>zooms</th>\n",
       "    </tr>\n",
       "  </thead>\n",
       "  <tbody>\n",
       "    <tr>\n",
       "      <th>count</th>\n",
       "      <td>1273.000000</td>\n",
       "      <td>1273.000000</td>\n",
       "      <td>1273.00000</td>\n",
       "      <td>1273.000000</td>\n",
       "      <td>1273.000000</td>\n",
       "      <td>1273.000000</td>\n",
       "      <td>1273.000000</td>\n",
       "      <td>1273.000000</td>\n",
       "      <td>1273.000000</td>\n",
       "      <td>1273.000000</td>\n",
       "      <td>...</td>\n",
       "      <td>1273.000000</td>\n",
       "      <td>1273.000000</td>\n",
       "      <td>1273.0</td>\n",
       "      <td>1273.000000</td>\n",
       "      <td>1273.000000</td>\n",
       "      <td>1273.000000</td>\n",
       "      <td>1273.000000</td>\n",
       "      <td>1273.000000</td>\n",
       "      <td>1273.000000</td>\n",
       "      <td>1273.000000</td>\n",
       "    </tr>\n",
       "    <tr>\n",
       "      <th>mean</th>\n",
       "      <td>0.000803</td>\n",
       "      <td>0.000625</td>\n",
       "      <td>0.00170</td>\n",
       "      <td>0.001406</td>\n",
       "      <td>0.001406</td>\n",
       "      <td>0.005216</td>\n",
       "      <td>0.000895</td>\n",
       "      <td>0.000433</td>\n",
       "      <td>0.005623</td>\n",
       "      <td>0.000937</td>\n",
       "      <td>...</td>\n",
       "      <td>0.000511</td>\n",
       "      <td>0.000803</td>\n",
       "      <td>0.0</td>\n",
       "      <td>0.000803</td>\n",
       "      <td>0.000703</td>\n",
       "      <td>0.000937</td>\n",
       "      <td>0.003212</td>\n",
       "      <td>0.008567</td>\n",
       "      <td>0.001406</td>\n",
       "      <td>0.001451</td>\n",
       "    </tr>\n",
       "    <tr>\n",
       "      <th>std</th>\n",
       "      <td>0.028662</td>\n",
       "      <td>0.022293</td>\n",
       "      <td>0.03637</td>\n",
       "      <td>0.050159</td>\n",
       "      <td>0.050159</td>\n",
       "      <td>0.080355</td>\n",
       "      <td>0.026578</td>\n",
       "      <td>0.015434</td>\n",
       "      <td>0.200636</td>\n",
       "      <td>0.033439</td>\n",
       "      <td>...</td>\n",
       "      <td>0.018240</td>\n",
       "      <td>0.028662</td>\n",
       "      <td>0.0</td>\n",
       "      <td>0.028662</td>\n",
       "      <td>0.025079</td>\n",
       "      <td>0.033439</td>\n",
       "      <td>0.064953</td>\n",
       "      <td>0.089049</td>\n",
       "      <td>0.050159</td>\n",
       "      <td>0.036595</td>\n",
       "    </tr>\n",
       "    <tr>\n",
       "      <th>min</th>\n",
       "      <td>0.000000</td>\n",
       "      <td>0.000000</td>\n",
       "      <td>0.00000</td>\n",
       "      <td>0.000000</td>\n",
       "      <td>0.000000</td>\n",
       "      <td>0.000000</td>\n",
       "      <td>0.000000</td>\n",
       "      <td>0.000000</td>\n",
       "      <td>0.000000</td>\n",
       "      <td>0.000000</td>\n",
       "      <td>...</td>\n",
       "      <td>0.000000</td>\n",
       "      <td>0.000000</td>\n",
       "      <td>0.0</td>\n",
       "      <td>0.000000</td>\n",
       "      <td>0.000000</td>\n",
       "      <td>0.000000</td>\n",
       "      <td>0.000000</td>\n",
       "      <td>0.000000</td>\n",
       "      <td>0.000000</td>\n",
       "      <td>0.000000</td>\n",
       "    </tr>\n",
       "    <tr>\n",
       "      <th>25%</th>\n",
       "      <td>0.000000</td>\n",
       "      <td>0.000000</td>\n",
       "      <td>0.00000</td>\n",
       "      <td>0.000000</td>\n",
       "      <td>0.000000</td>\n",
       "      <td>0.000000</td>\n",
       "      <td>0.000000</td>\n",
       "      <td>0.000000</td>\n",
       "      <td>0.000000</td>\n",
       "      <td>0.000000</td>\n",
       "      <td>...</td>\n",
       "      <td>0.000000</td>\n",
       "      <td>0.000000</td>\n",
       "      <td>0.0</td>\n",
       "      <td>0.000000</td>\n",
       "      <td>0.000000</td>\n",
       "      <td>0.000000</td>\n",
       "      <td>0.000000</td>\n",
       "      <td>0.000000</td>\n",
       "      <td>0.000000</td>\n",
       "      <td>0.000000</td>\n",
       "    </tr>\n",
       "    <tr>\n",
       "      <th>50%</th>\n",
       "      <td>0.000000</td>\n",
       "      <td>0.000000</td>\n",
       "      <td>0.00000</td>\n",
       "      <td>0.000000</td>\n",
       "      <td>0.000000</td>\n",
       "      <td>0.000000</td>\n",
       "      <td>0.000000</td>\n",
       "      <td>0.000000</td>\n",
       "      <td>0.000000</td>\n",
       "      <td>0.000000</td>\n",
       "      <td>...</td>\n",
       "      <td>0.000000</td>\n",
       "      <td>0.000000</td>\n",
       "      <td>0.0</td>\n",
       "      <td>0.000000</td>\n",
       "      <td>0.000000</td>\n",
       "      <td>0.000000</td>\n",
       "      <td>0.000000</td>\n",
       "      <td>0.000000</td>\n",
       "      <td>0.000000</td>\n",
       "      <td>0.000000</td>\n",
       "    </tr>\n",
       "    <tr>\n",
       "      <th>75%</th>\n",
       "      <td>0.000000</td>\n",
       "      <td>0.000000</td>\n",
       "      <td>0.00000</td>\n",
       "      <td>0.000000</td>\n",
       "      <td>0.000000</td>\n",
       "      <td>0.000000</td>\n",
       "      <td>0.000000</td>\n",
       "      <td>0.000000</td>\n",
       "      <td>0.000000</td>\n",
       "      <td>0.000000</td>\n",
       "      <td>...</td>\n",
       "      <td>0.000000</td>\n",
       "      <td>0.000000</td>\n",
       "      <td>0.0</td>\n",
       "      <td>0.000000</td>\n",
       "      <td>0.000000</td>\n",
       "      <td>0.000000</td>\n",
       "      <td>0.000000</td>\n",
       "      <td>0.000000</td>\n",
       "      <td>0.000000</td>\n",
       "      <td>0.000000</td>\n",
       "    </tr>\n",
       "    <tr>\n",
       "      <th>max</th>\n",
       "      <td>1.022645</td>\n",
       "      <td>0.795390</td>\n",
       "      <td>0.86570</td>\n",
       "      <td>1.789628</td>\n",
       "      <td>1.789628</td>\n",
       "      <td>1.788918</td>\n",
       "      <td>0.923624</td>\n",
       "      <td>0.550655</td>\n",
       "      <td>7.158514</td>\n",
       "      <td>1.193086</td>\n",
       "      <td>...</td>\n",
       "      <td>0.650774</td>\n",
       "      <td>1.022645</td>\n",
       "      <td>0.0</td>\n",
       "      <td>1.022645</td>\n",
       "      <td>0.894814</td>\n",
       "      <td>1.193086</td>\n",
       "      <td>1.924073</td>\n",
       "      <td>1.506486</td>\n",
       "      <td>1.789628</td>\n",
       "      <td>0.923624</td>\n",
       "    </tr>\n",
       "  </tbody>\n",
       "</table>\n",
       "<p>8 rows × 2511 columns</p>\n",
       "</div>"
      ],
      "text/plain": [
       "         abandoned        abhor     ability        abode     absolute  \\\n",
       "count  1273.000000  1273.000000  1273.00000  1273.000000  1273.000000   \n",
       "mean      0.000803     0.000625     0.00170     0.001406     0.001406   \n",
       "std       0.028662     0.022293     0.03637     0.050159     0.050159   \n",
       "min       0.000000     0.000000     0.00000     0.000000     0.000000   \n",
       "25%       0.000000     0.000000     0.00000     0.000000     0.000000   \n",
       "50%       0.000000     0.000000     0.00000     0.000000     0.000000   \n",
       "75%       0.000000     0.000000     0.00000     0.000000     0.000000   \n",
       "max       1.022645     0.795390     0.86570     1.789628     1.789628   \n",
       "\n",
       "        absolutely    absolutly       absorb       abused       accept  \\\n",
       "count  1273.000000  1273.000000  1273.000000  1273.000000  1273.000000   \n",
       "mean      0.005216     0.000895     0.000433     0.005623     0.000937   \n",
       "std       0.080355     0.026578     0.015434     0.200636     0.033439   \n",
       "min       0.000000     0.000000     0.000000     0.000000     0.000000   \n",
       "25%       0.000000     0.000000     0.000000     0.000000     0.000000   \n",
       "50%       0.000000     0.000000     0.000000     0.000000     0.000000   \n",
       "75%       0.000000     0.000000     0.000000     0.000000     0.000000   \n",
       "max       1.788918     0.923624     0.550655     7.158514     1.193086   \n",
       "\n",
       "          ...             yield     yourlife   youve          yrs  \\\n",
       "count     ...       1273.000000  1273.000000  1273.0  1273.000000   \n",
       "mean      ...          0.000511     0.000803     0.0     0.000803   \n",
       "std       ...          0.018240     0.028662     0.0     0.028662   \n",
       "min       ...          0.000000     0.000000     0.0     0.000000   \n",
       "25%       ...          0.000000     0.000000     0.0     0.000000   \n",
       "50%       ...          0.000000     0.000000     0.0     0.000000   \n",
       "75%       ...          0.000000     0.000000     0.0     0.000000   \n",
       "max       ...          0.650774     1.022645     0.0     1.022645   \n",
       "\n",
       "            zarent       zipper         zone         zoom  zoombrowser  \\\n",
       "count  1273.000000  1273.000000  1273.000000  1273.000000  1273.000000   \n",
       "mean      0.000703     0.000937     0.003212     0.008567     0.001406   \n",
       "std       0.025079     0.033439     0.064953     0.089049     0.050159   \n",
       "min       0.000000     0.000000     0.000000     0.000000     0.000000   \n",
       "25%       0.000000     0.000000     0.000000     0.000000     0.000000   \n",
       "50%       0.000000     0.000000     0.000000     0.000000     0.000000   \n",
       "75%       0.000000     0.000000     0.000000     0.000000     0.000000   \n",
       "max       0.894814     1.193086     1.924073     1.506486     1.789628   \n",
       "\n",
       "             zooms  \n",
       "count  1273.000000  \n",
       "mean      0.001451  \n",
       "std       0.036595  \n",
       "min       0.000000  \n",
       "25%       0.000000  \n",
       "50%       0.000000  \n",
       "75%       0.000000  \n",
       "max       0.923624  \n",
       "\n",
       "[8 rows x 2511 columns]"
      ]
     },
     "execution_count": 4,
     "metadata": {},
     "output_type": "execute_result"
    }
   ],
   "source": [
    "# Statistical Analysis\n",
    "corpus.describe()"
   ]
  },
  {
   "cell_type": "code",
   "execution_count": 5,
   "metadata": {
    "collapsed": true
   },
   "outputs": [],
   "source": [
    "# Converted the Dataframe to nparray for clustering\n",
    "dataset = np.array(corpus)"
   ]
  },
  {
   "cell_type": "code",
   "execution_count": 6,
   "metadata": {},
   "outputs": [
    {
     "data": {
      "text/plain": [
       "(1273, 2511)"
      ]
     },
     "execution_count": 6,
     "metadata": {},
     "output_type": "execute_result"
    }
   ],
   "source": [
    "# Shape\n",
    "dataset.shape"
   ]
  },
  {
   "cell_type": "code",
   "execution_count": 7,
   "metadata": {},
   "outputs": [
    {
     "data": {
      "text/plain": [
       "array([ 0.,  0.,  0., ...,  0.,  0.,  0.])"
      ]
     },
     "execution_count": 7,
     "metadata": {},
     "output_type": "execute_result"
    }
   ],
   "source": [
    "dataset[1]"
   ]
  },
  {
   "cell_type": "code",
   "execution_count": 8,
   "metadata": {},
   "outputs": [
    {
     "data": {
      "text/plain": [
       "'C:\\\\Users\\\\ajaighosh.ramachandr\\\\Desktop\\\\AJ\\\\studies_ml\\\\kaggle\\\\nineleaps\\\\tfidf_clustering\\\\run'"
      ]
     },
     "execution_count": 8,
     "metadata": {},
     "output_type": "execute_result"
    }
   ],
   "source": [
    "# Appending the LIB path to the sys path\n",
    "import os\n",
    "os.getcwd()\n",
    "import sys\n",
    "sys.path.append(os.getcwd())\n",
    "sys.path.append(os.path.join(os.pardir, 'lib'))"
   ]
  },
  {
   "cell_type": "code",
   "execution_count": 9,
   "metadata": {},
   "outputs": [],
   "source": [
    "# Importing the cluster module\n",
    "from cluster.kmeans_advanced import KMeansAdvanced"
   ]
  },
  {
   "cell_type": "code",
   "execution_count": 10,
   "metadata": {
    "collapsed": true
   },
   "outputs": [],
   "source": [
    "# Initialize the cluster\n",
    "clus = KMeansAdvanced()"
   ]
  },
  {
   "cell_type": "code",
   "execution_count": 21,
   "metadata": {},
   "outputs": [],
   "source": [
    "# Finding the best fit and classes\n",
    "init_centroid, classes = clus.fit(dataset)"
   ]
  },
  {
   "cell_type": "code",
   "execution_count": 23,
   "metadata": {},
   "outputs": [
    {
     "data": {
      "text/plain": [
       "1273"
      ]
     },
     "execution_count": 23,
     "metadata": {},
     "output_type": "execute_result"
    }
   ],
   "source": [
    "len(classes)"
   ]
  },
  {
   "cell_type": "code",
   "execution_count": 24,
   "metadata": {},
   "outputs": [
    {
     "data": {
      "text/plain": [
       "array([[ 0.,  0.,  0., ...,  0.,  0.,  0.],\n",
       "       [ 0.,  0.,  0., ...,  0.,  0.,  0.],\n",
       "       [ 0.,  0.,  0., ...,  0.,  0.,  0.],\n",
       "       ..., \n",
       "       [ 0.,  0.,  0., ...,  0.,  0.,  0.],\n",
       "       [ 0.,  0.,  0., ...,  0.,  0.,  0.],\n",
       "       [ 0.,  0.,  0., ...,  0.,  0.,  0.]])"
      ]
     },
     "execution_count": 24,
     "metadata": {},
     "output_type": "execute_result"
    }
   ],
   "source": [
    "dataset"
   ]
  },
  {
   "cell_type": "code",
   "execution_count": 26,
   "metadata": {},
   "outputs": [],
   "source": [
    "# Adding the classes or cluster identity to the dataframe\n",
    "corpus['Classes'] = classes"
   ]
  },
  {
   "cell_type": "code",
   "execution_count": 28,
   "metadata": {},
   "outputs": [
    {
     "data": {
      "text/html": [
       "<div>\n",
       "<style>\n",
       "    .dataframe thead tr:only-child th {\n",
       "        text-align: right;\n",
       "    }\n",
       "\n",
       "    .dataframe thead th {\n",
       "        text-align: left;\n",
       "    }\n",
       "\n",
       "    .dataframe tbody tr th {\n",
       "        vertical-align: top;\n",
       "    }\n",
       "</style>\n",
       "<table border=\"1\" class=\"dataframe\">\n",
       "  <thead>\n",
       "    <tr style=\"text-align: right;\">\n",
       "      <th></th>\n",
       "      <th>abandoned</th>\n",
       "      <th>abhor</th>\n",
       "      <th>ability</th>\n",
       "      <th>abode</th>\n",
       "      <th>absolute</th>\n",
       "      <th>absolutely</th>\n",
       "      <th>absolutly</th>\n",
       "      <th>absorb</th>\n",
       "      <th>abused</th>\n",
       "      <th>accept</th>\n",
       "      <th>...</th>\n",
       "      <th>yourlife</th>\n",
       "      <th>youve</th>\n",
       "      <th>yrs</th>\n",
       "      <th>zarent</th>\n",
       "      <th>zipper</th>\n",
       "      <th>zone</th>\n",
       "      <th>zoom</th>\n",
       "      <th>zoombrowser</th>\n",
       "      <th>zooms</th>\n",
       "      <th>Classes</th>\n",
       "    </tr>\n",
       "  </thead>\n",
       "  <tbody>\n",
       "    <tr>\n",
       "      <th>count</th>\n",
       "      <td>1273.000000</td>\n",
       "      <td>1273.000000</td>\n",
       "      <td>1273.00000</td>\n",
       "      <td>1273.000000</td>\n",
       "      <td>1273.000000</td>\n",
       "      <td>1273.000000</td>\n",
       "      <td>1273.000000</td>\n",
       "      <td>1273.000000</td>\n",
       "      <td>1273.000000</td>\n",
       "      <td>1273.000000</td>\n",
       "      <td>...</td>\n",
       "      <td>1273.000000</td>\n",
       "      <td>1273.0</td>\n",
       "      <td>1273.000000</td>\n",
       "      <td>1273.000000</td>\n",
       "      <td>1273.000000</td>\n",
       "      <td>1273.000000</td>\n",
       "      <td>1273.000000</td>\n",
       "      <td>1273.000000</td>\n",
       "      <td>1273.000000</td>\n",
       "      <td>1273.000000</td>\n",
       "    </tr>\n",
       "    <tr>\n",
       "      <th>mean</th>\n",
       "      <td>0.000803</td>\n",
       "      <td>0.000625</td>\n",
       "      <td>0.00170</td>\n",
       "      <td>0.001406</td>\n",
       "      <td>0.001406</td>\n",
       "      <td>0.005216</td>\n",
       "      <td>0.000895</td>\n",
       "      <td>0.000433</td>\n",
       "      <td>0.005623</td>\n",
       "      <td>0.000937</td>\n",
       "      <td>...</td>\n",
       "      <td>0.000803</td>\n",
       "      <td>0.0</td>\n",
       "      <td>0.000803</td>\n",
       "      <td>0.000703</td>\n",
       "      <td>0.000937</td>\n",
       "      <td>0.003212</td>\n",
       "      <td>0.008567</td>\n",
       "      <td>0.001406</td>\n",
       "      <td>0.001451</td>\n",
       "      <td>0.003928</td>\n",
       "    </tr>\n",
       "    <tr>\n",
       "      <th>std</th>\n",
       "      <td>0.028662</td>\n",
       "      <td>0.022293</td>\n",
       "      <td>0.03637</td>\n",
       "      <td>0.050159</td>\n",
       "      <td>0.050159</td>\n",
       "      <td>0.080355</td>\n",
       "      <td>0.026578</td>\n",
       "      <td>0.015434</td>\n",
       "      <td>0.200636</td>\n",
       "      <td>0.033439</td>\n",
       "      <td>...</td>\n",
       "      <td>0.028662</td>\n",
       "      <td>0.0</td>\n",
       "      <td>0.028662</td>\n",
       "      <td>0.025079</td>\n",
       "      <td>0.033439</td>\n",
       "      <td>0.064953</td>\n",
       "      <td>0.089049</td>\n",
       "      <td>0.050159</td>\n",
       "      <td>0.036595</td>\n",
       "      <td>0.062573</td>\n",
       "    </tr>\n",
       "    <tr>\n",
       "      <th>min</th>\n",
       "      <td>0.000000</td>\n",
       "      <td>0.000000</td>\n",
       "      <td>0.00000</td>\n",
       "      <td>0.000000</td>\n",
       "      <td>0.000000</td>\n",
       "      <td>0.000000</td>\n",
       "      <td>0.000000</td>\n",
       "      <td>0.000000</td>\n",
       "      <td>0.000000</td>\n",
       "      <td>0.000000</td>\n",
       "      <td>...</td>\n",
       "      <td>0.000000</td>\n",
       "      <td>0.0</td>\n",
       "      <td>0.000000</td>\n",
       "      <td>0.000000</td>\n",
       "      <td>0.000000</td>\n",
       "      <td>0.000000</td>\n",
       "      <td>0.000000</td>\n",
       "      <td>0.000000</td>\n",
       "      <td>0.000000</td>\n",
       "      <td>0.000000</td>\n",
       "    </tr>\n",
       "    <tr>\n",
       "      <th>25%</th>\n",
       "      <td>0.000000</td>\n",
       "      <td>0.000000</td>\n",
       "      <td>0.00000</td>\n",
       "      <td>0.000000</td>\n",
       "      <td>0.000000</td>\n",
       "      <td>0.000000</td>\n",
       "      <td>0.000000</td>\n",
       "      <td>0.000000</td>\n",
       "      <td>0.000000</td>\n",
       "      <td>0.000000</td>\n",
       "      <td>...</td>\n",
       "      <td>0.000000</td>\n",
       "      <td>0.0</td>\n",
       "      <td>0.000000</td>\n",
       "      <td>0.000000</td>\n",
       "      <td>0.000000</td>\n",
       "      <td>0.000000</td>\n",
       "      <td>0.000000</td>\n",
       "      <td>0.000000</td>\n",
       "      <td>0.000000</td>\n",
       "      <td>0.000000</td>\n",
       "    </tr>\n",
       "    <tr>\n",
       "      <th>50%</th>\n",
       "      <td>0.000000</td>\n",
       "      <td>0.000000</td>\n",
       "      <td>0.00000</td>\n",
       "      <td>0.000000</td>\n",
       "      <td>0.000000</td>\n",
       "      <td>0.000000</td>\n",
       "      <td>0.000000</td>\n",
       "      <td>0.000000</td>\n",
       "      <td>0.000000</td>\n",
       "      <td>0.000000</td>\n",
       "      <td>...</td>\n",
       "      <td>0.000000</td>\n",
       "      <td>0.0</td>\n",
       "      <td>0.000000</td>\n",
       "      <td>0.000000</td>\n",
       "      <td>0.000000</td>\n",
       "      <td>0.000000</td>\n",
       "      <td>0.000000</td>\n",
       "      <td>0.000000</td>\n",
       "      <td>0.000000</td>\n",
       "      <td>0.000000</td>\n",
       "    </tr>\n",
       "    <tr>\n",
       "      <th>75%</th>\n",
       "      <td>0.000000</td>\n",
       "      <td>0.000000</td>\n",
       "      <td>0.00000</td>\n",
       "      <td>0.000000</td>\n",
       "      <td>0.000000</td>\n",
       "      <td>0.000000</td>\n",
       "      <td>0.000000</td>\n",
       "      <td>0.000000</td>\n",
       "      <td>0.000000</td>\n",
       "      <td>0.000000</td>\n",
       "      <td>...</td>\n",
       "      <td>0.000000</td>\n",
       "      <td>0.0</td>\n",
       "      <td>0.000000</td>\n",
       "      <td>0.000000</td>\n",
       "      <td>0.000000</td>\n",
       "      <td>0.000000</td>\n",
       "      <td>0.000000</td>\n",
       "      <td>0.000000</td>\n",
       "      <td>0.000000</td>\n",
       "      <td>0.000000</td>\n",
       "    </tr>\n",
       "    <tr>\n",
       "      <th>max</th>\n",
       "      <td>1.022645</td>\n",
       "      <td>0.795390</td>\n",
       "      <td>0.86570</td>\n",
       "      <td>1.789628</td>\n",
       "      <td>1.789628</td>\n",
       "      <td>1.788918</td>\n",
       "      <td>0.923624</td>\n",
       "      <td>0.550655</td>\n",
       "      <td>7.158514</td>\n",
       "      <td>1.193086</td>\n",
       "      <td>...</td>\n",
       "      <td>1.022645</td>\n",
       "      <td>0.0</td>\n",
       "      <td>1.022645</td>\n",
       "      <td>0.894814</td>\n",
       "      <td>1.193086</td>\n",
       "      <td>1.924073</td>\n",
       "      <td>1.506486</td>\n",
       "      <td>1.789628</td>\n",
       "      <td>0.923624</td>\n",
       "      <td>1.000000</td>\n",
       "    </tr>\n",
       "  </tbody>\n",
       "</table>\n",
       "<p>8 rows × 2512 columns</p>\n",
       "</div>"
      ],
      "text/plain": [
       "         abandoned        abhor     ability        abode     absolute  \\\n",
       "count  1273.000000  1273.000000  1273.00000  1273.000000  1273.000000   \n",
       "mean      0.000803     0.000625     0.00170     0.001406     0.001406   \n",
       "std       0.028662     0.022293     0.03637     0.050159     0.050159   \n",
       "min       0.000000     0.000000     0.00000     0.000000     0.000000   \n",
       "25%       0.000000     0.000000     0.00000     0.000000     0.000000   \n",
       "50%       0.000000     0.000000     0.00000     0.000000     0.000000   \n",
       "75%       0.000000     0.000000     0.00000     0.000000     0.000000   \n",
       "max       1.022645     0.795390     0.86570     1.789628     1.789628   \n",
       "\n",
       "        absolutely    absolutly       absorb       abused       accept  \\\n",
       "count  1273.000000  1273.000000  1273.000000  1273.000000  1273.000000   \n",
       "mean      0.005216     0.000895     0.000433     0.005623     0.000937   \n",
       "std       0.080355     0.026578     0.015434     0.200636     0.033439   \n",
       "min       0.000000     0.000000     0.000000     0.000000     0.000000   \n",
       "25%       0.000000     0.000000     0.000000     0.000000     0.000000   \n",
       "50%       0.000000     0.000000     0.000000     0.000000     0.000000   \n",
       "75%       0.000000     0.000000     0.000000     0.000000     0.000000   \n",
       "max       1.788918     0.923624     0.550655     7.158514     1.193086   \n",
       "\n",
       "          ...          yourlife   youve          yrs       zarent  \\\n",
       "count     ...       1273.000000  1273.0  1273.000000  1273.000000   \n",
       "mean      ...          0.000803     0.0     0.000803     0.000703   \n",
       "std       ...          0.028662     0.0     0.028662     0.025079   \n",
       "min       ...          0.000000     0.0     0.000000     0.000000   \n",
       "25%       ...          0.000000     0.0     0.000000     0.000000   \n",
       "50%       ...          0.000000     0.0     0.000000     0.000000   \n",
       "75%       ...          0.000000     0.0     0.000000     0.000000   \n",
       "max       ...          1.022645     0.0     1.022645     0.894814   \n",
       "\n",
       "            zipper         zone         zoom  zoombrowser        zooms  \\\n",
       "count  1273.000000  1273.000000  1273.000000  1273.000000  1273.000000   \n",
       "mean      0.000937     0.003212     0.008567     0.001406     0.001451   \n",
       "std       0.033439     0.064953     0.089049     0.050159     0.036595   \n",
       "min       0.000000     0.000000     0.000000     0.000000     0.000000   \n",
       "25%       0.000000     0.000000     0.000000     0.000000     0.000000   \n",
       "50%       0.000000     0.000000     0.000000     0.000000     0.000000   \n",
       "75%       0.000000     0.000000     0.000000     0.000000     0.000000   \n",
       "max       1.193086     1.924073     1.506486     1.789628     0.923624   \n",
       "\n",
       "           Classes  \n",
       "count  1273.000000  \n",
       "mean      0.003928  \n",
       "std       0.062573  \n",
       "min       0.000000  \n",
       "25%       0.000000  \n",
       "50%       0.000000  \n",
       "75%       0.000000  \n",
       "max       1.000000  \n",
       "\n",
       "[8 rows x 2512 columns]"
      ]
     },
     "execution_count": 28,
     "metadata": {},
     "output_type": "execute_result"
    }
   ],
   "source": [
    "\n",
    "corpus.describe()"
   ]
  },
  {
   "cell_type": "code",
   "execution_count": 32,
   "metadata": {},
   "outputs": [
    {
     "data": {
      "text/plain": [
       "<matplotlib.axes._subplots.AxesSubplot at 0x2a9e147f710>"
      ]
     },
     "execution_count": 32,
     "metadata": {},
     "output_type": "execute_result"
    },
    {
     "data": {
      "image/png": "[encoded data removed]",
      "text/plain": [
       "<matplotlib.figure.Figure at 0x2a9e1a4d160>"
      ]
     },
     "metadata": {},
     "output_type": "display_data"
    }
   ],
   "source": [
    "# Finding the value counts for cluster and compare the cluster count\n",
    "corpus.Classes.value_counts().plot.bar()"
   ]
  },
  {
   "cell_type": "code",
   "execution_count": 36,
   "metadata": {
    "collapsed": true
   },
   "outputs": [],
   "source": [
    "# Adding the sumTFidf to the Dataframe\n",
    "corpus['SumTfidf'] = corpus.sum(axis=1)"
   ]
  },
  {
   "cell_type": "code",
   "execution_count": 40,
   "metadata": {},
   "outputs": [
    {
     "data": {
      "text/plain": [
       "7.158514    27\n",
       "6.465367     9\n",
       "Name: SumTfidf, dtype: int64"
      ]
     },
     "execution_count": 40,
     "metadata": {},
     "output_type": "execute_result"
    }
   ],
   "source": [
    "corpus.SumTfidf.value_counts().head(2)"
   ]
  },
  {
   "cell_type": "code",
   "execution_count": 45,
   "metadata": {},
   "outputs": [
    {
     "data": {
      "text/plain": [
       "<seaborn.axisgrid.FacetGrid at 0x2a9e166b400>"
      ]
     },
     "execution_count": 45,
     "metadata": {},
     "output_type": "execute_result"
    },
    {
     "data": {
      "image/png": "[encoded data removed]",
      "text/plain": [
       "<matplotlib.figure.Figure at 0x2a9e156cc50>"
      ]
     },
     "metadata": {},
     "output_type": "display_data"
    }
   ],
   "source": [
    "# Plotting the cluster\n",
    "import seaborn as sns\n",
    "\n",
    "sns.lmplot(x='SumTfidf', y='Classes',hue = 'Classes', \n",
    "           markers=['x', 'o'],\n",
    "           fit_reg=False, data=corpus)"
   ]
  },
  {
   "cell_type": "code",
   "execution_count": null,
   "metadata": {
    "collapsed": true
   },
   "outputs": [],
   "source": []
  },
  {
   "cell_type": "code",
   "execution_count": null,
   "metadata": {
    "collapsed": true
   },
   "outputs": [],
   "source": []
  },
  {
   "cell_type": "code",
   "execution_count": 12,
   "metadata": {},
   "outputs": [],
   "source": [
    "import matplotlib.pyplot as plt\n",
    "%matplotlib inline"
   ]
  },
  {
   "cell_type": "code",
   "execution_count": 13,
   "metadata": {},
   "outputs": [
    {
     "data": {
      "text/plain": [
       "<matplotlib.collections.PathCollection at 0x2a9e101f278>"
      ]
     },
     "execution_count": 13,
     "metadata": {},
     "output_type": "execute_result"
    },
    {
     "data": {
      "image/png": "[encoded data removed]",
      "text/plain": [
       "<matplotlib.figure.Figure at 0x2a9e84afe48>"
      ]
     },
     "metadata": {},
     "output_type": "display_data"
    }
   ],
   "source": [
    "plt.scatter(dataset[:,0], dataset[:,1], c=classes)\n",
    "plt.show()"
   ]
  },
  {
   "cell_type": "code",
   "execution_count": 14,
   "metadata": {},
   "outputs": [
    {
     "data": {
      "text/plain": [
       "1273"
      ]
     },
     "execution_count": 14,
     "metadata": {},
     "output_type": "execute_result"
    },
    {
     "data": {
      "text/plain": [
       "1273"
      ]
     },
     "execution_count": 14,
     "metadata": {},
     "output_type": "execute_result"
    }
   ],
   "source": [
    "len(dataset[:,0])\n",
    "len(dataset[:,1])"
   ]
  },
  {
   "cell_type": "code",
   "execution_count": 15,
   "metadata": {
    "collapsed": true
   },
   "outputs": [],
   "source": [
    "from sklearn.model_selection import train_test_split\n"
   ]
  },
  {
   "cell_type": "code",
   "execution_count": 16,
   "metadata": {},
   "outputs": [],
   "source": [
    "X_train, X_test = train_test_split(dataset, test_size=0.33)"
   ]
  },
  {
   "cell_type": "code",
   "execution_count": 17,
   "metadata": {},
   "outputs": [
    {
     "data": {
      "text/plain": [
       "(852, 2511)"
      ]
     },
     "execution_count": 17,
     "metadata": {},
     "output_type": "execute_result"
    }
   ],
   "source": [
    "X_train.shape"
   ]
  },
  {
   "cell_type": "code",
   "execution_count": 18,
   "metadata": {},
   "outputs": [
    {
     "data": {
      "text/plain": [
       "(421, 2511)"
      ]
     },
     "execution_count": 18,
     "metadata": {},
     "output_type": "execute_result"
    }
   ],
   "source": [
    "X_test.shape"
   ]
  },
  {
   "cell_type": "code",
   "execution_count": 19,
   "metadata": {
    "collapsed": true
   },
   "outputs": [],
   "source": [
    "clus1 = KMeansAdvanced()"
   ]
  },
  {
   "cell_type": "code",
   "execution_count": 20,
   "metadata": {},
   "outputs": [],
   "source": [
    "init_centroid, classes = clus1.fit(X_train)s"
   ]
  },
  {
   "cell_type": "code",
   "execution_count": null,
   "metadata": {},
   "outputs": [],
   "source": []
  },
  {
   "cell_type": "code",
   "execution_count": null,
   "metadata": {
    "collapsed": true
   },
   "outputs": [],
   "source": []
  },
  {
   "cell_type": "code",
   "execution_count": null,
   "metadata": {},
   "outputs": [],
   "source": []
  },
  {
   "cell_type": "code",
   "execution_count": null,
   "metadata": {
    "collapsed": true
   },
   "outputs": [],
   "source": []
  }
 ],
 "metadata": {
  "kernelspec": {
   "display_name": "Python 3",
   "language": "python",
   "name": "python3"
  },
  "language_info": {
   "codemirror_mode": {
    "name": "ipython",
    "version": 3
   },
   "file_extension": ".py",
   "mimetype": "text/x-python",
   "name": "python",
   "nbconvert_exporter": "python",
   "pygments_lexer": "ipython3",
   "version": "3.6.1"
  }
 },
 "nbformat": 4,
 "nbformat_minor": 2
}
