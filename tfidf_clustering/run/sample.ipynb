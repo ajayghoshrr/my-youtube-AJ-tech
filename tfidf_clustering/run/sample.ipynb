{
 "cells": [
  {
   "cell_type": "markdown",
   "metadata": {},
   "source": [
    "## Today, we're teaching computers how to read\n",
    "\n",
    "Computers are great at crunching numbers.   But crunching words?  Not so much...   So, today, we're going to send our computer to school and teach it to read.   How? By converting words to numbers.  \n",
    "\n",
    "In this tutorial I'll cover the most basic parts of 'language processing.' There's a lot to language processing, or text analytics, and this is only a start, but you can do alot with the things we cover here. "
   ]
  },
  {
   "cell_type": "markdown",
   "metadata": {},
   "source": [
    "### What's a Corpus?\n",
    "\n",
    "Lets start with a brief corpus of documents.  A corpus is a collection.   "
   ]
  },
  {
   "cell_type": "code",
   "execution_count": 4,
   "metadata": {
    "collapsed": true
   },
   "outputs": [],
   "source": [
    "from IPython.core.interactiveshell import InteractiveShell\n",
    "InteractiveShell.ast_node_interactivity = \"all\""
   ]
  },
  {
   "cell_type": "code",
   "execution_count": 5,
   "metadata": {
    "collapsed": true
   },
   "outputs": [],
   "source": [
    "docA = \"the cat sat on my face\"\n",
    "docB = \"the dog sat on my bed\""
   ]
  },
  {
   "cell_type": "markdown",
   "metadata": {},
   "source": [
    "### Tokenizing\n",
    "Most of the time when we work on text, we can use the 'Bag Of Words' model to represent a document.   In the BOW model, each document can be thought of as a bag of words..."
   ]
  },
  {
   "cell_type": "code",
   "execution_count": 6,
   "metadata": {
    "collapsed": true
   },
   "outputs": [],
   "source": [
    "bowA = docA.split(\" \")\n",
    "bowB = docB.split(\" \")"
   ]
  },
  {
   "cell_type": "code",
   "execution_count": 41,
   "metadata": {},
   "outputs": [
    {
     "data": {
      "text/plain": [
       "['the', 'dog', 'sat', 'on', 'my', 'bed']"
      ]
     },
     "execution_count": 41,
     "metadata": {},
     "output_type": "execute_result"
    },
    {
     "data": {
      "text/plain": [
       "['the', 'cat', 'sat', 'on', 'my', 'face']"
      ]
     },
     "execution_count": 41,
     "metadata": {},
     "output_type": "execute_result"
    }
   ],
   "source": [
    "bowB\n",
    "bowA\n",
    "a = bowA\n",
    "b = bowB"
   ]
  },
  {
   "cell_type": "markdown",
   "metadata": {},
   "source": [
    "Splitting a document up into the component words like this is called 'tokenizing.'\n",
    "\n",
    "Ok, so the documents are tokenized, but how do we convert a tokenized BOW into numbers?  \n",
    "\n",
    "There are a few strategies.   One simple strategy could be to create a vector of all possible words, and for each document count how many times each word appears."
   ]
  },
  {
   "cell_type": "code",
   "execution_count": 9,
   "metadata": {},
   "outputs": [
    {
     "data": {
      "text/plain": [
       "{'bed', 'cat', 'dog', 'face', 'my', 'on', 'sat', 'the'}"
      ]
     },
     "execution_count": 9,
     "metadata": {},
     "output_type": "execute_result"
    }
   ],
   "source": [
    "wordSet= set(bowA).union(set(bowB))\n",
    "wordSet"
   ]
  },
  {
   "cell_type": "code",
   "execution_count": 11,
   "metadata": {},
   "outputs": [
    {
     "data": {
      "text/plain": [
       "{'bed', 'cat', 'dog', 'face', 'my', 'on', 'sat', 'the'}"
      ]
     },
     "execution_count": 11,
     "metadata": {},
     "output_type": "execute_result"
    }
   ],
   "source": [
    "#all words in all bags/documents\n",
    "wordSet"
   ]
  },
  {
   "cell_type": "code",
   "execution_count": 12,
   "metadata": {
    "collapsed": true
   },
   "outputs": [],
   "source": [
    "#I'll create dictionaries to keep my word counts.\n",
    "wordDictA = dict.fromkeys(wordSet, 0)\n",
    "wordDictB = dict.fromkeys(wordSet, 0)"
   ]
  },
  {
   "cell_type": "code",
   "execution_count": 14,
   "metadata": {},
   "outputs": [
    {
     "data": {
      "text/plain": [
       "{'bed': 0, 'cat': 0, 'dog': 0, 'face': 0, 'my': 0, 'on': 0, 'sat': 0, 'the': 0}"
      ]
     },
     "execution_count": 14,
     "metadata": {},
     "output_type": "execute_result"
    },
    {
     "data": {
      "text/plain": [
       "{'bed': 0, 'cat': 0, 'dog': 0, 'face': 0, 'my': 0, 'on': 0, 'sat': 0, 'the': 0}"
      ]
     },
     "execution_count": 14,
     "metadata": {},
     "output_type": "execute_result"
    }
   ],
   "source": [
    "#This is what one of them looks like\n",
    "wordDictA\n",
    "wordDictB"
   ]
  },
  {
   "cell_type": "code",
   "execution_count": 16,
   "metadata": {
    "collapsed": true
   },
   "outputs": [],
   "source": [
    "#now I'll count the words in my bags.\n",
    "for word in bowA:\n",
    "    wordDictA[word]+=1\n",
    "\n",
    "for word in bowB:\n",
    "    wordDictB[word]+=1"
   ]
  },
  {
   "cell_type": "code",
   "execution_count": 17,
   "metadata": {},
   "outputs": [
    {
     "data": {
      "text/plain": [
       "{'bed': 0, 'cat': 1, 'dog': 0, 'face': 1, 'my': 1, 'on': 1, 'sat': 1, 'the': 1}"
      ]
     },
     "execution_count": 17,
     "metadata": {},
     "output_type": "execute_result"
    },
    {
     "data": {
      "text/plain": [
       "{'bed': 1, 'cat': 0, 'dog': 1, 'face': 0, 'my': 1, 'on': 1, 'sat': 1, 'the': 1}"
      ]
     },
     "execution_count": 17,
     "metadata": {},
     "output_type": "execute_result"
    }
   ],
   "source": [
    "wordDictA\n",
    "wordDictB"
   ]
  },
  {
   "cell_type": "code",
   "execution_count": 18,
   "metadata": {},
   "outputs": [
    {
     "data": {
      "text/html": [
       "<div>\n",
       "<style>\n",
       "    .dataframe thead tr:only-child th {\n",
       "        text-align: right;\n",
       "    }\n",
       "\n",
       "    .dataframe thead th {\n",
       "        text-align: left;\n",
       "    }\n",
       "\n",
       "    .dataframe tbody tr th {\n",
       "        vertical-align: top;\n",
       "    }\n",
       "</style>\n",
       "<table border=\"1\" class=\"dataframe\">\n",
       "  <thead>\n",
       "    <tr style=\"text-align: right;\">\n",
       "      <th></th>\n",
       "      <th>bed</th>\n",
       "      <th>cat</th>\n",
       "      <th>dog</th>\n",
       "      <th>face</th>\n",
       "      <th>my</th>\n",
       "      <th>on</th>\n",
       "      <th>sat</th>\n",
       "      <th>the</th>\n",
       "    </tr>\n",
       "  </thead>\n",
       "  <tbody>\n",
       "    <tr>\n",
       "      <th>0</th>\n",
       "      <td>0</td>\n",
       "      <td>1</td>\n",
       "      <td>0</td>\n",
       "      <td>1</td>\n",
       "      <td>1</td>\n",
       "      <td>1</td>\n",
       "      <td>1</td>\n",
       "      <td>1</td>\n",
       "    </tr>\n",
       "    <tr>\n",
       "      <th>1</th>\n",
       "      <td>1</td>\n",
       "      <td>0</td>\n",
       "      <td>1</td>\n",
       "      <td>0</td>\n",
       "      <td>1</td>\n",
       "      <td>1</td>\n",
       "      <td>1</td>\n",
       "      <td>1</td>\n",
       "    </tr>\n",
       "  </tbody>\n",
       "</table>\n",
       "</div>"
      ],
      "text/plain": [
       "   bed  cat  dog  face  my  on  sat  the\n",
       "0    0    1    0     1   1   1    1    1\n",
       "1    1    0    1     0   1   1    1    1"
      ]
     },
     "execution_count": 18,
     "metadata": {},
     "output_type": "execute_result"
    }
   ],
   "source": [
    "#Lastly I'll stick those into a matrix.\n",
    "import pandas as pd\n",
    "pd.DataFrame([wordDictA, wordDictB])"
   ]
  },
  {
   "cell_type": "markdown",
   "metadata": {},
   "source": [
    "Boom!  We just converted words into a linear algebra problem!  Computers can handle linear algebra, mission accomplished."
   ]
  },
  {
   "cell_type": "markdown",
   "metadata": {},
   "source": [
    "### Not So Fast...\n",
    "\n",
    "Mission almost accomplished.   The problem with our counting strategy is that we use alot of words commonly, that just don't mean much.  In fact, the most commonly used word in the english language (the) makes up 7% of the words we speak, which is double the frequency of the next most popular word (of).   The distribution of words in language is a power law distribution, which is the basis for Zipf's law. [(Wikipedia)](http://en.wikipedia.org/wiki/Zipf%27s_law)\n",
    "\n",
    "So, if we construct our document matrix out of counts, then we end up with numbers that don't contain much information, unless our goal was to see who uses 'the' most often.  \n",
    "\n",
    "### TF-IDF - A better Strategy\n",
    "\n",
    "Rather than just counting, we can use the [TF-IDF](http://en.wikipedia.org/wiki/Tf%E2%80%93idf) score of a word to rank it's importance.   \n",
    "\n",
    "The tfidf score of a word, w, is:\n",
    "$$tf(w) * idf(w)$$\n",
    "\n",
    "Where tf(w) = (Number of times the word appears in a document) / (Total number of words in the document)\n",
    "\n",
    "And where idf(w) = log(Number of documents / Number of documents that contain word w )."
   ]
  },
  {
   "cell_type": "code",
   "execution_count": 23,
   "metadata": {
    "collapsed": true
   },
   "outputs": [],
   "source": [
    "def computeTF(wordDict, bow):\n",
    "    tfDict = {}\n",
    "    bowCount = len(bow)\n",
    "    for word, count in wordDict.items():\n",
    "        tfDict[word] = count / float(bowCount)\n",
    "    return tfDict"
   ]
  },
  {
   "cell_type": "code",
   "execution_count": 45,
   "metadata": {},
   "outputs": [
    {
     "data": {
      "text/plain": [
       "{'bed': 0, 'cat': 1, 'dog': 0, 'face': 1, 'my': 1, 'on': 1, 'sat': 1, 'the': 1}"
      ]
     },
     "execution_count": 45,
     "metadata": {},
     "output_type": "execute_result"
    },
    {
     "data": {
      "text/plain": [
       "{'bed': 1, 'cat': 0, 'dog': 1, 'face': 0, 'my': 1, 'on': 1, 'sat': 1, 'the': 1}"
      ]
     },
     "execution_count": 45,
     "metadata": {},
     "output_type": "execute_result"
    },
    {
     "data": {
      "text/plain": [
       "{'bed': 0.0,\n",
       " 'cat': 0.16666666666666666,\n",
       " 'dog': 0.0,\n",
       " 'face': 0.16666666666666666,\n",
       " 'my': 0.16666666666666666,\n",
       " 'on': 0.16666666666666666,\n",
       " 'sat': 0.16666666666666666,\n",
       " 'the': 0.16666666666666666}"
      ]
     },
     "execution_count": 45,
     "metadata": {},
     "output_type": "execute_result"
    },
    {
     "data": {
      "text/plain": [
       "{'bed': 0.16666666666666666,\n",
       " 'cat': 0.0,\n",
       " 'dog': 0.16666666666666666,\n",
       " 'face': 0.0,\n",
       " 'my': 0.16666666666666666,\n",
       " 'on': 0.16666666666666666,\n",
       " 'sat': 0.16666666666666666,\n",
       " 'the': 0.16666666666666666}"
      ]
     },
     "execution_count": 45,
     "metadata": {},
     "output_type": "execute_result"
    }
   ],
   "source": [
    "wordDictA\n",
    "wordDictB\n",
    "stfBowA = computeTF(wordDictA, bowA)\n",
    "tfBowB = computeTF(wordDictB, bowB)\n",
    "tfBowA\n",
    "tfBowB"
   ]
  },
  {
   "cell_type": "code",
   "execution_count": 43,
   "metadata": {
    "collapsed": true
   },
   "outputs": [],
   "source": [
    "def computeIDF(docList):\n",
    "    import math\n",
    "    idfDict = {}\n",
    "    N = len(docList)\n",
    "    \n",
    "    #counts the number of documents that contain a word w\n",
    "    idfDict = dict.fromkeys(docList[0].keys(),0)\n",
    "    print (idfDict)\n",
    "    for doc in docList:\n",
    "        print (doc.items())\n",
    "        for word, val in doc.items():\n",
    "            if val > 0:\n",
    "                idfDict[word] +=1\n",
    "    print (idfDict)            \n",
    "    #divide N by denominator above, take the log of that\n",
    "    for word, val in idfDict.items():\n",
    "        idfDict[word]= math.log(N / float(val)) \n",
    "\n",
    "    return idfDict\n",
    "    \n",
    "   \n",
    "    "
   ]
  },
  {
   "cell_type": "code",
   "execution_count": 44,
   "metadata": {},
   "outputs": [
    {
     "data": {
      "text/plain": [
       "[{'bed': 0,\n",
       "  'cat': 1,\n",
       "  'dog': 0,\n",
       "  'face': 1,\n",
       "  'my': 1,\n",
       "  'on': 1,\n",
       "  'sat': 1,\n",
       "  'the': 1},\n",
       " {'bed': 1,\n",
       "  'cat': 0,\n",
       "  'dog': 1,\n",
       "  'face': 0,\n",
       "  'my': 1,\n",
       "  'on': 1,\n",
       "  'sat': 1,\n",
       "  'the': 1}]"
      ]
     },
     "execution_count": 44,
     "metadata": {},
     "output_type": "execute_result"
    },
    {
     "name": "stdout",
     "output_type": "stream",
     "text": [
      "{'cat': 0, 'on': 0, 'bed': 0, 'dog': 0, 'face': 0, 'my': 0, 'sat': 0, 'the': 0}\n",
      "dict_items([('cat', 1), ('on', 1), ('bed', 0), ('dog', 0), ('face', 1), ('my', 1), ('sat', 1), ('the', 1)])\n",
      "dict_items([('cat', 0), ('on', 1), ('bed', 1), ('dog', 1), ('face', 0), ('my', 1), ('sat', 1), ('the', 1)])\n",
      "{'cat': 1, 'on': 2, 'bed': 1, 'dog': 1, 'face': 1, 'my': 2, 'sat': 2, 'the': 2}\n"
     ]
    },
    {
     "data": {
      "text/plain": [
       "{'bed': 0.6931471805599453,\n",
       " 'cat': 0.6931471805599453,\n",
       " 'dog': 0.6931471805599453,\n",
       " 'face': 0.6931471805599453,\n",
       " 'my': 0.0,\n",
       " 'on': 0.0,\n",
       " 'sat': 0.0,\n",
       " 'the': 0.0}"
      ]
     },
     "execution_count": 44,
     "metadata": {},
     "output_type": "execute_result"
    }
   ],
   "source": [
    "[wordDictA, wordDictB]\n",
    "idfs = computeIDF([wordDictA, wordDictB])\n",
    "idfs"
   ]
  },
  {
   "cell_type": "code",
   "execution_count": 47,
   "metadata": {
    "collapsed": true
   },
   "outputs": [],
   "source": [
    "def computeTFIDF(tfBow, idfs):\n",
    "    print (tfBow)\n",
    "    print (idfs)\n",
    "    tfidf = {}\n",
    "    for word, val in tfBow.items():\n",
    "        tfidf[word] = val * idfs[word]\n",
    "    return tfidf\n"
   ]
  },
  {
   "cell_type": "code",
   "execution_count": 48,
   "metadata": {},
   "outputs": [
    {
     "name": "stdout",
     "output_type": "stream",
     "text": [
      "{'cat': 0.16666666666666666, 'on': 0.16666666666666666, 'bed': 0.0, 'dog': 0.0, 'face': 0.16666666666666666, 'my': 0.16666666666666666, 'sat': 0.16666666666666666, 'the': 0.16666666666666666}\n",
      "{'cat': 0.6931471805599453, 'on': 0.0, 'bed': 0.6931471805599453, 'dog': 0.6931471805599453, 'face': 0.6931471805599453, 'my': 0.0, 'sat': 0.0, 'the': 0.0}\n"
     ]
    },
    {
     "data": {
      "text/plain": [
       "{'bed': 0.0,\n",
       " 'cat': 0.11552453009332421,\n",
       " 'dog': 0.0,\n",
       " 'face': 0.11552453009332421,\n",
       " 'my': 0.0,\n",
       " 'on': 0.0,\n",
       " 'sat': 0.0,\n",
       " 'the': 0.0}"
      ]
     },
     "execution_count": 48,
     "metadata": {},
     "output_type": "execute_result"
    },
    {
     "name": "stdout",
     "output_type": "stream",
     "text": [
      "{'cat': 0.0, 'on': 0.16666666666666666, 'bed': 0.16666666666666666, 'dog': 0.16666666666666666, 'face': 0.0, 'my': 0.16666666666666666, 'sat': 0.16666666666666666, 'the': 0.16666666666666666}\n",
      "{'cat': 0.6931471805599453, 'on': 0.0, 'bed': 0.6931471805599453, 'dog': 0.6931471805599453, 'face': 0.6931471805599453, 'my': 0.0, 'sat': 0.0, 'the': 0.0}\n"
     ]
    },
    {
     "data": {
      "text/plain": [
       "{'bed': 0.11552453009332421,\n",
       " 'cat': 0.0,\n",
       " 'dog': 0.11552453009332421,\n",
       " 'face': 0.0,\n",
       " 'my': 0.0,\n",
       " 'on': 0.0,\n",
       " 'sat': 0.0,\n",
       " 'the': 0.0}"
      ]
     },
     "execution_count": 48,
     "metadata": {},
     "output_type": "execute_result"
    }
   ],
   "source": [
    "tfidfBowA =  computeTFIDF(tfBowA, idfs)\n",
    "tfidfBowA\n",
    "tfidfBowB = computeTFIDF(tfBowB, idfs)\n",
    "tfidfBowB"
   ]
  },
  {
   "cell_type": "code",
   "execution_count": 88,
   "metadata": {},
   "outputs": [
    {
     "data": {
      "text/html": [
       "<div style=\"max-height:1000px;max-width:1500px;overflow:auto;\">\n",
       "<table border=\"1\" class=\"dataframe\">\n",
       "  <thead>\n",
       "    <tr style=\"text-align: right;\">\n",
       "      <th></th>\n",
       "      <th>bed</th>\n",
       "      <th>cat</th>\n",
       "      <th>dog</th>\n",
       "      <th>face</th>\n",
       "      <th>my</th>\n",
       "      <th>on</th>\n",
       "      <th>sat</th>\n",
       "      <th>the</th>\n",
       "    </tr>\n",
       "  </thead>\n",
       "  <tbody>\n",
       "    <tr>\n",
       "      <th>0</th>\n",
       "      <td> 0.000000</td>\n",
       "      <td> 0.115525</td>\n",
       "      <td> 0.000000</td>\n",
       "      <td> 0.115525</td>\n",
       "      <td> 0</td>\n",
       "      <td> 0</td>\n",
       "      <td> 0</td>\n",
       "      <td> 0</td>\n",
       "    </tr>\n",
       "    <tr>\n",
       "      <th>1</th>\n",
       "      <td> 0.115525</td>\n",
       "      <td> 0.000000</td>\n",
       "      <td> 0.115525</td>\n",
       "      <td> 0.000000</td>\n",
       "      <td> 0</td>\n",
       "      <td> 0</td>\n",
       "      <td> 0</td>\n",
       "      <td> 0</td>\n",
       "    </tr>\n",
       "  </tbody>\n",
       "</table>\n",
       "</div>"
      ],
      "text/plain": [
       "        bed       cat       dog      face  my  on  sat  the\n",
       "0  0.000000  0.115525  0.000000  0.115525   0   0    0    0\n",
       "1  0.115525  0.000000  0.115525  0.000000   0   0    0    0"
      ]
     },
     "execution_count": 88,
     "metadata": {},
     "output_type": "execute_result"
    }
   ],
   "source": [
    "#Lastly I'll stick those into a matrix.\n",
    "import pandas as pd\n",
    "pd.DataFrame([tfidfBowA, tfidfBowB])"
   ]
  },
  {
   "cell_type": "code",
   "execution_count": null,
   "metadata": {
    "collapsed": true
   },
   "outputs": [],
   "source": []
  }
 ],
 "metadata": {
  "kernelspec": {
   "display_name": "Python 3",
   "language": "python",
   "name": "python3"
  },
  "language_info": {
   "codemirror_mode": {
    "name": "ipython",
    "version": 3
   },
   "file_extension": ".py",
   "mimetype": "text/x-python",
   "name": "python",
   "nbconvert_exporter": "python",
   "pygments_lexer": "ipython3",
   "version": "3.6.1"
  }
 },
 "nbformat": 4,
 "nbformat_minor": 1
}
